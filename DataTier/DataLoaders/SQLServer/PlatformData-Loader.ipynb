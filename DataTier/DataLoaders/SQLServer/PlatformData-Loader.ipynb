{
    "metadata": {
        "kernelspec": {
            "name": "SQL",
            "display_name": "SQL",
            "language": "sql"
        },
        "language_info": {
            "name": "sql",
            "version": ""
        }
    },
    "nbformat_minor": 2,
    "nbformat": 4,
    "cells": [
        {
            "cell_type": "code",
            "source": [
                "PRINT 'Platform Data'"
            ],
            "metadata": {
                "azdata_cell_guid": "5188c1ee-0af5-4235-b15c-e975a0305d71",
                "language": "sql"
            },
            "outputs": [],
            "execution_count": null
        },
        {
            "cell_type": "code",
            "source": [
                "PRINT 'Platform App Settings'\r\n",
                "-- This is currently not populated with any general settings"
            ],
            "metadata": {
                "language": "sql",
                "azdata_cell_guid": "ace6dc9b-6bb9-46c8-ba01-cddf5ae51005"
            },
            "outputs": [],
            "execution_count": null
        },
        {
            "cell_type": "code",
            "source": [
                "PRINT 'Platform Attributes'"
            ],
            "metadata": {
                "language": "sql",
                "azdata_cell_guid": "642653ee-31b9-46b5-9c1f-386b1ad9550f"
            },
            "outputs": [],
            "execution_count": null
        },
        {
            "cell_type": "code",
            "source": [
                "PRINT 'Platform Config Data Attributes'\n",
                "INSERT INTO refdata_datagentypes (DataGenTypeDescription,Definition,DataAttributeID,CreatedDate,StatusID,CreatedUser) VALUES\n",
                "     ('Master','^5[1-5][0-9]{14}$',6,'2021-05-24 19:48:20',1,NULL),\n",
                "\t ('Visa','^4[0-9]{12}(?:[0-9]{3})?$',6,'2021-05-24 19:48:20',1,NULL),\n",
                "\t ('Discover','^65[4-9][0-9]{13}|64[4-9][0-9]{13}|6011[0-9]{12}|(622(?:12[6-9]|1[3-9][0-9]|[2-8][0-9][0-9]|9[01][0-9]|92[0-5])[0-9]{10})$',6,'2021-05-24 19:48:20',1,NULL),\n",
                "\t ('AMEX','^3[47][0-9]{13}$',6,'2021-05-24 19:48:20',1,NULL),\n",
                "\t ('AL','^[0-9]{7,8}$',9,'2021-05-24 19:48:20',1,NULL),\n",
                "\t ('AK','^[0-9]{7}$',9,'2021-05-24 19:48:20',1,NULL),\n",
                "\t ('AZ','^[A-Z]{1}[0-9]{8}$',9,'2021-05-24 19:48:20',1,NULL),\n",
                "\t ('AR','^[0-9]{9}$',9,'2021-05-24 19:48:20',1,NULL),\n",
                "\t ('CA','^[A-Z]{1}[0-9]{7}$',9,'2021-05-24 19:48:20',1,NULL),\n",
                "\t ('CO','^[0-9]{9}$',9,'2021-05-24 19:48:20',1,NULL);\n",
                "INSERT INTO refdata_datagentypes (DataGenTypeDescription,Definition,DataAttributeID,CreatedDate,StatusID,CreatedUser) VALUES \t \n",
                "\t ('CT','^[0-9]{9}$',9,'2021-05-24 19:48:20',1,NULL),\n",
                "\t ('DE','^[0-9]{1,7}$',9,'2021-05-24 19:48:20',1,NULL),\n",
                "\t ('DC','^[0-9]{7}$',9,'2021-05-24 19:48:20',1,NULL),\n",
                "\t ('FL','^[A-Z]{1}[0-9]{12}$',9,'2021-05-24 19:48:20',1,NULL),\n",
                "\t ('GA','^[0-9]{9}$',9,'2021-05-24 19:48:20',1,NULL),\n",
                "\t ('HI','^H[0-9]{8}$',9,'2021-05-24 19:48:20',1,NULL),\n",
                "\t ('ID','^[A-Z]{3}[0-9]{6}$',9,'2021-05-24 19:48:20',1,NULL),\n",
                "\t ('IL','^[A-Z]{1}[0-9]{11}$',9,'2021-05-24 19:48:20',1,NULL),\n",
                "\t ('IN','^[0-9]{10}$',9,'2021-05-24 19:48:20',1,NULL),\n",
                "\t ('IA','^[A-Z]{3}[0-9]{2}[A-Z]{4}$',9,'2021-05-24 19:48:20',1,NULL);\n",
                "INSERT INTO refdata_datagentypes (DataGenTypeDescription,Definition,DataAttributeID,CreatedDate,StatusID,CreatedUser) VALUES \n",
                "\t ('KS','^K[0-9]{8}$',9,'2021-05-24 19:48:20',1,NULL),\n",
                "\t ('KY','^[A-Z]{1}[0-9]{8}$',9,'2021-05-24 19:48:20',1,NULL),\n",
                "\t ('LA','^0[0-9]{8}$',9,'2021-05-24 19:48:20',1,NULL),\n",
                "\t ('ME','^[0-9]{7}$',9,'2021-05-24 19:48:20',1,NULL),\n",
                "\t ('MD','^[A-Z]{1}[0-9]{12}$',9,'2021-05-24 19:48:20',1,NULL),\n",
                "\t ('MA','^S[0-9]{8}$',9,'2021-05-24 19:48:21',1,NULL),\n",
                "\t ('MI','^[A-Z]{1}[0-9]{12}$',9,'2021-05-24 19:48:21',1,NULL),\n",
                "\t ('MN','^[A-Z]{1}[0-9]{12}$',9,'2021-05-24 19:48:21',1,NULL),\n",
                "\t ('MS','^[0-9]{9}$',9,'2021-05-24 19:48:21',1,NULL),\n",
                "\t ('MO','^[A-Z]{1}[0-9]{9}$',9,'2021-05-24 19:48:21',1,NULL);\n",
                "INSERT INTO refdata_datagentypes (DataGenTypeDescription,Definition,DataAttributeID,CreatedDate,StatusID,CreatedUser) VALUES \n",
                "\t ('MT','^[0-9]{13}$',9,'2021-05-24 19:48:21',1,NULL),\n",
                "\t ('NE','^[A-Z]{1}[0-9]{8}$',9,'2021-05-24 19:48:21',1,NULL),\n",
                "\t ('NV','^[0-9]{12}$',9,'2021-05-24 19:48:21',1,NULL),\n",
                "\t ('NH','^[A-Z]{3}[0-9]{8}$',9,'2021-05-24 19:48:21',1,NULL),\n",
                "\t ('NJ','^[A-Z]{1}[0-9]{14}$',9,'2021-05-24 19:48:21',1,NULL),\n",
                "\t ('NM','^[0-9]{9}$',9,'2021-05-24 19:48:21',1,NULL),\n",
                "\t ('NY','^[0-9]{9}$',9,'2021-05-24 19:48:21',1,NULL),\n",
                "\t ('NC','^[0-9]{12}$',9,'2021-05-24 19:48:21',1,NULL),\n",
                "\t ('ND','^[A-Z]{3}[0-9]{6}$',9,'2021-05-24 19:48:21',1,NULL),\n",
                "\t ('OH','^[A-Z]{2}[0-9]{6}$',9,'2021-05-24 19:48:21',1,NULL);\n",
                "INSERT INTO refdata_datagentypes (DataGenTypeDescription,Definition,DataAttributeID,CreatedDate,StatusID,CreatedUser) VALUES \n",
                "\t ('OK','^[A-Z]{1}[0-9]{9}$',9,'2021-05-24 19:48:21',1,NULL),\n",
                "\t ('OR','^[A-Z]{1}[0-9]{6,7}$',9,'2021-05-24 19:48:21',1,NULL),\n",
                "\t ('PA','^[0-9]{8}$',9,'2021-05-24 19:48:21',1,NULL),\n",
                "\t ('RI','(^V[0-9]{6}$)|(^[0-9]{7}$)',9,'2021-05-24 19:48:21',1,NULL),\n",
                "\t ('SC','^[0-9]{6,11}$',9,'2021-05-24 19:48:21',1,NULL),\n",
                "\t ('SD','^[0-9]{8,9}$',9,'2021-05-24 19:48:21',1,NULL),\n",
                "\t ('TN','^[0-9]{7,9}$',9,'2021-05-24 19:48:21',1,NULL),\n",
                "\t ('TX','^[0-9]{8}$',9,'2021-05-24 19:48:21',1,NULL),\n",
                "\t ('UT','^[0-9]{4,10}$',9,'2021-05-24 19:48:21',1,NULL),\n",
                "\t ('VT','(^[0-9]{7}A$)|(^[0-9]{8}$)',9,'2021-05-24 19:48:21',1,NULL);\n",
                "INSERT INTO refdata_datagentypes (DataGenTypeDescription,Definition,DataAttributeID,CreatedDate,StatusID,CreatedUser) VALUES \n",
                "\t ('VA','^[A-Z]{1}[0-9]{8}$',9,'2021-05-24 19:48:21',1,NULL),\n",
                "\t ('WA','(^[A-Z]{7}[0-9]{5}$)|(^[A-Z]{7}[0-9]{3}[A-Z]{2}$)',9,'2021-05-24 19:48:21',1,NULL),\n",
                "\t ('WV','^[A-Z]{1}[0-9]{6}$',9,'2021-05-24 19:48:21',1,NULL),\n",
                "\t ('WI','^[A-Z]{1}[0-9]{13}$',9,'2021-05-24 19:48:21',1,NULL),\n",
                "\t ('WY','^[0-9]{9}$',9,'2021-05-24 19:48:21',1,NULL),\n",
                "\t ('Numeric','^[0-9]{9}$',14,'2021-05-24 19:48:21',1,NULL),\n",
                "\t ('Mixed','^[A-Z]{2}[%#@&]{1}[0-9]{5}[A-Z]{1}$',14,'2021-05-24 19:48:21',1,NULL),\n",
                "\t ('Peoples Bank','^[0-9]{10}$',7,'2021-05-24 19:48:21',1,NULL),\n",
                "\t ('Cadeceus','^[%#@&]{1}[A-Z]{3}[%#@&]{1}[0-9]{1}[A-Z]{2}$',15,'2021-05-24 19:48:21',1,NULL);\n",
                ""
            ],
            "metadata": {
                "language": "sql",
                "azdata_cell_guid": "6b7c8836-c236-42e0-929a-49197b9dbece"
            },
            "outputs": [
                {
                    "output_type": "display_data",
                    "data": {
                        "text/html": "Data Generator Types"
                    },
                    "metadata": {}
                },
                {
                    "output_type": "error",
                    "ename": "",
                    "evalue": "Msg 547, Level 16, State 0, Line 2\nThe INSERT statement conflicted with the FOREIGN KEY constraint \"FK__refdata_d__dataa__1881A0DE\". The conflict occurred in database \"datasynth\", table \"dbo.platform_dataattributes\", column 'platformdataattributesid'.",
                    "traceback": []
                },
                {
                    "output_type": "display_data",
                    "data": {
                        "text/html": "The statement has been terminated."
                    },
                    "metadata": {}
                },
                {
                    "output_type": "error",
                    "ename": "",
                    "evalue": "Msg 547, Level 16, State 0, Line 13\nThe INSERT statement conflicted with the FOREIGN KEY constraint \"FK__refdata_d__dataa__1881A0DE\". The conflict occurred in database \"datasynth\", table \"dbo.platform_dataattributes\", column 'platformdataattributesid'.",
                    "traceback": []
                },
                {
                    "output_type": "display_data",
                    "data": {
                        "text/html": "The statement has been terminated."
                    },
                    "metadata": {}
                },
                {
                    "output_type": "error",
                    "ename": "",
                    "evalue": "Msg 547, Level 16, State 0, Line 24\nThe INSERT statement conflicted with the FOREIGN KEY constraint \"FK__refdata_d__dataa__1881A0DE\". The conflict occurred in database \"datasynth\", table \"dbo.platform_dataattributes\", column 'platformdataattributesid'.",
                    "traceback": []
                },
                {
                    "output_type": "display_data",
                    "data": {
                        "text/html": "The statement has been terminated."
                    },
                    "metadata": {}
                },
                {
                    "output_type": "error",
                    "ename": "",
                    "evalue": "Msg 547, Level 16, State 0, Line 35\nThe INSERT statement conflicted with the FOREIGN KEY constraint \"FK__refdata_d__dataa__1881A0DE\". The conflict occurred in database \"datasynth\", table \"dbo.platform_dataattributes\", column 'platformdataattributesid'.",
                    "traceback": []
                },
                {
                    "output_type": "display_data",
                    "data": {
                        "text/html": "The statement has been terminated."
                    },
                    "metadata": {}
                },
                {
                    "output_type": "error",
                    "ename": "",
                    "evalue": "Msg 547, Level 16, State 0, Line 46\nThe INSERT statement conflicted with the FOREIGN KEY constraint \"FK__refdata_d__dataa__1881A0DE\". The conflict occurred in database \"datasynth\", table \"dbo.platform_dataattributes\", column 'platformdataattributesid'.",
                    "traceback": []
                },
                {
                    "output_type": "display_data",
                    "data": {
                        "text/html": "The statement has been terminated."
                    },
                    "metadata": {}
                },
                {
                    "output_type": "error",
                    "ename": "",
                    "evalue": "Msg 547, Level 16, State 0, Line 57\nThe INSERT statement conflicted with the FOREIGN KEY constraint \"FK__refdata_d__dataa__1881A0DE\". The conflict occurred in database \"datasynth\", table \"dbo.platform_dataattributes\", column 'platformdataattributesid'.",
                    "traceback": []
                },
                {
                    "output_type": "display_data",
                    "data": {
                        "text/html": "The statement has been terminated."
                    },
                    "metadata": {}
                },
                {
                    "output_type": "display_data",
                    "data": {
                        "text/html": "Total execution time: 00:00:00.156"
                    },
                    "metadata": {}
                }
            ],
            "execution_count": 8
        },
        {
            "cell_type": "code",
            "source": [
                "PRINT 'Platform Config Data Structures'"
            ],
            "metadata": {
                "language": "sql",
                "azdata_cell_guid": "895062c5-79f6-46a7-809c-28bc82548326"
            },
            "outputs": [],
            "execution_count": null
        },
        {
            "cell_type": "code",
            "source": [
                "PRINT 'Platform Config Data Structures Detail'"
            ],
            "metadata": {
                "language": "sql",
                "azdata_cell_guid": "6c581484-0352-44c8-82e9-0b786a743948"
            },
            "outputs": [],
            "execution_count": null
        }
    ]
}