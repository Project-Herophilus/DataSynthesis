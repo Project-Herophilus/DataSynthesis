{
    "metadata": {
        "kernelspec": {
            "name": "SQL",
            "display_name": "SQL",
            "language": "sql"
        },
        "language_info": {
            "name": "sql",
            "version": ""
        }
    },
    "nbformat_minor": 2,
    "nbformat": 4,
    "cells": [
        {
            "cell_type": "code",
            "source": [
                "PRINT 'Data Loaders'\n",
                ""
            ],
            "metadata": {
                "azdata_cell_guid": "527353ac-2a68-4256-ad31-750c4daebdd0",
                "language": "sql",
                "tags": [
                    "hide_input"
                ]
            },
            "outputs": [
                {
                    "output_type": "display_data",
                    "data": {
                        "text/html": "Data Loaders"
                    },
                    "metadata": {}
                },
                {
                    "output_type": "display_data",
                    "data": {
                        "text/html": "Total execution time: 00:00:00.039"
                    },
                    "metadata": {}
                }
            ],
            "execution_count": 4
        },
        {
            "cell_type": "code",
            "source": [
                "PRINT 'Reference Data Loaders'\n",
                "PRINT 'Status Codes'\n",
                "INSERT INTO refdata_status (StatusDescription,CreatedDate,CreatedUser) VALUES \n",
                "('Active','2020-07-21 01:12:51.0',NULL)\n",
                ",('Inactive','2020-07-21 01:12:51.0',NULL)\n",
                ",('Arcived','2020-07-21 01:12:51.0',NULL)\n",
                ";\n",
                ""
            ],
            "metadata": {
                "language": "sql",
                "azdata_cell_guid": "e398b038-4094-42d8-96c5-1a594ee68263",
                "tags": [
                    "hide_input"
                ]
            },
            "outputs": [
                {
                    "output_type": "display_data",
                    "data": {
                        "text/html": "Reference Data Loaders"
                    },
                    "metadata": {}
                },
                {
                    "output_type": "display_data",
                    "data": {
                        "text/html": "Status Codes"
                    },
                    "metadata": {}
                },
                {
                    "output_type": "error",
                    "ename": "",
                    "evalue": "Msg 515, Level 16, State 2, Line 3\nCannot insert the value NULL into column 'statusid', table 'datasynth.dbo.refdata_status'; column does not allow nulls. INSERT fails.",
                    "traceback": []
                },
                {
                    "output_type": "display_data",
                    "data": {
                        "text/html": "The statement has been terminated."
                    },
                    "metadata": {}
                },
                {
                    "output_type": "display_data",
                    "data": {
                        "text/html": "Total execution time: 00:00:00.065"
                    },
                    "metadata": {}
                }
            ],
            "execution_count": 5
        },
        {
            "cell_type": "code",
            "source": [
                "PRINT 'Timezones'\n",
                "INSERT INTO refdata_timezones (TimeZoneValue,TimeZoneDesc,CreatedDate,StatusID) VALUES \n",
                "('CST','Central Timezone','2020-07-21 01:18:34.0',1)\n",
                ",('EST','Eastern Timezone','2020-07-21 01:18:34.0',1)\n",
                ",('MST','Moutain Timezone','2020-07-21 01:18:34.0',1)\n",
                ",('PST','Pacific Timezone','2020-07-21 01:18:34.0',1)\n",
                ",('UNK','Unkown''','2020-07-21 01:18:34.0',1)\n",
                ";\n",
                ""
            ],
            "metadata": {
                "azdata_cell_guid": "0b377666-7681-4573-b4fa-6ad2d5d16700",
                "language": "sql",
                "tags": [
                    "hide_input"
                ]
            },
            "outputs": [
                {
                    "output_type": "display_data",
                    "data": {
                        "text/html": "Timezones"
                    },
                    "metadata": {}
                },
                {
                    "output_type": "display_data",
                    "data": {
                        "text/html": "(5 rows affected)"
                    },
                    "metadata": {}
                },
                {
                    "output_type": "display_data",
                    "data": {
                        "text/html": "Total execution time: 00:00:00.071"
                    },
                    "metadata": {}
                }
            ],
            "execution_count": 1
        },
        {
            "cell_type": "code",
            "source": [
                "PRINT 'US States'\n",
                "INSERT INTO refdata_usstates (StateID,StateDescription,Lattitude,Longitude,CreatedDate,StatusID,CreatedUser) VALUES \n",
                "('AK','Alaska','63.588753','-154.493062','2020-07-28 01:33:31.0',1,NULL)\n",
                ",('AL','Alabama','32.318231','-86.902298','2020-07-28 01:33:31.0',1,NULL)\n",
                ",('AR','Arkansas','35.20105','-91.831833','2020-07-28 01:33:31.0',1,NULL)\n",
                ",('AZ','Arizona','34.048928','-111.093731','2020-07-28 01:33:31.0',1,NULL)\n",
                ",('CA','California','36.778261','-119.417932','2020-07-28 01:33:31.0',1,NULL)\n",
                ",('CO','Colorado','39.550051','-105.782067','2020-07-28 01:33:31.0',1,NULL)\n",
                ",('CT','Connecticut','41.603221','-73.087749','2020-07-28 01:33:31.0',1,NULL)\n",
                ",('DC','District of Columbia','38.905985','-77.033418','2020-07-28 01:33:31.0',1,NULL)\n",
                ",('DE','Delaware','38.910832','-75.52767','2020-07-28 01:33:31.0',1,NULL)\n",
                ",('FL','Florida','27.664827','-81.515754','2020-07-28 01:33:31.0',1,NULL)\n",
                ";\n",
                "INSERT INTO refdata_usstates (StateID,StateDescription,Lattitude,Longitude,CreatedDate,StatusID,CreatedUser) VALUES \n",
                "('GA','Georgia','32.157435','-82.907123','2020-07-28 01:33:31.0',1,NULL)\n",
                ",('HI','Hawaii','19.898682','-155.665857','2020-07-28 01:33:31.0',1,NULL)\n",
                ",('IA','Iowa','41.878003','-93.097702','2020-07-28 01:33:31.0',1,NULL)\n",
                ",('ID','Idaho','44.068202','-114.742041','2020-07-28 01:33:31.0',1,NULL)\n",
                ",('IL','Illinois','40.633125','-89.398528','2020-07-28 01:33:31.0',1,NULL)\n",
                ",('IN','Indiana','40.551217','-85.602364','2020-07-28 01:33:31.0',1,NULL)\n",
                ",('KS','Kansas','39.011902','-98.484246','2020-07-28 01:33:31.0',1,NULL)\n",
                ",('KY','Kentucky','37.839333','-84.270018','2020-07-28 01:33:31.0',1,NULL)\n",
                ",('LA','Louisiana','31.244823','-92.145024','2020-07-28 01:33:31.0',1,NULL)\n",
                ",('MA','Massachusetts','42.407211','-71.382437','2020-07-28 01:33:31.0',1,NULL)\n",
                ";\n",
                "INSERT INTO refdata_usstates (StateID,StateDescription,Lattitude,Longitude,CreatedDate,StatusID,CreatedUser) VALUES \n",
                "('MD','Maryland','39.045755','-76.641271','2020-07-28 01:33:31.0',1,NULL)\n",
                ",('ME','Maine','45.253783','-69.445469','2020-07-28 01:33:31.0',1,NULL)\n",
                ",('MI','Michigan','44.314844','-85.602364','2020-07-28 01:33:31.0',1,NULL)\n",
                ",('MN','Minnesota','46.729553','-94.6859','2020-07-28 01:33:31.0',1,NULL)\n",
                ",('MO','Missouri','37.964253','-91.831833','2020-07-28 01:33:31.0',1,NULL)\n",
                ",('MS','Mississippi','32.354668','-89.398528','2020-07-28 01:33:31.0',1,NULL)\n",
                ",('MT','Montana','46.879682','-110.362566','2020-07-28 01:33:31.0',1,NULL)\n",
                ",('NC','North Carolina','35.759573','-79.0193','2020-07-28 01:33:31.0',1,NULL)\n",
                ",('ND','North Dakota','47.551493','-101.002012','2020-07-28 01:33:31.0',1,NULL)\n",
                ",('NE','Nebraska','41.492537','-99.901813','2020-07-28 01:33:31.0',1,NULL)\n",
                ";\n",
                "INSERT INTO refdata_usstates (StateID,StateDescription,Lattitude,Longitude,CreatedDate,StatusID,CreatedUser) VALUES \n",
                "('NH','New Hampshire','43.193852','-71.572395','2020-07-28 01:33:31.0',1,NULL)\n",
                ",('NJ','New Jersey','40.058324','-74.405661','2020-07-28 01:33:31.0',1,NULL)\n",
                ",('NM','New Mexico','34.97273','-105.032363','2020-07-28 01:33:31.0',1,NULL)\n",
                ",('NV','Nevada','38.80261','-116.419389','2020-07-28 01:33:31.0',1,NULL)\n",
                ",('NY','New York','43.299428','-74.217933','2020-07-28 01:33:31.0',1,NULL)\n",
                ",('OH','Ohio','40.417287','-82.907123','2020-07-28 01:33:31.0',1,NULL)\n",
                ",('OK','Oklahoma','35.007752','-97.092877','2020-07-28 01:33:31.0',1,NULL)\n",
                ",('OR','Oregon','43.804133','-120.554201','2020-07-28 01:33:31.0',1,NULL)\n",
                ",('PA','Pennsylvania','41.203322','-77.194525','2020-07-28 01:33:31.0',1,NULL)\n",
                ",('PR','Puerto Rico','18.220833','-66.590149','2020-07-28 01:33:31.0',1,NULL)\n",
                ";\n",
                "INSERT INTO refdata_usstates (StateID,StateDescription,Lattitude,Longitude,CreatedDate,StatusID,CreatedUser) VALUES \n",
                "('RI','Rhode Island','41.580095','-71.477429','2020-07-28 01:33:31.0',1,NULL)\n",
                ",('SC','South Carolina','33.836081','-81.163725','2020-07-28 01:33:31.0',1,NULL)\n",
                ",('SD','South Dakota','43.969515','-99.901813','2020-07-28 01:33:31.0',1,NULL)\n",
                ",('TN','Tennessee','35.517491','-86.580447','2020-07-28 01:33:31.0',1,NULL)\n",
                ",('TX','Texas','31.968599','-99.901813','2020-07-28 01:33:31.0',1,NULL)\n",
                ",('UT','Utah','39.32098','-111.093731','2020-07-28 01:33:31.0',1,NULL)\n",
                ",('VA','Virginia','37.431573','-78.656894','2020-07-28 01:33:31.0',1,NULL)\n",
                ",('VT','Vermont','44.558803','-72.577841','2020-07-28 01:33:31.0',1,NULL)\n",
                ",('WA','Washington','47.751074','-120.740139','2020-07-28 01:33:31.0',1,NULL)\n",
                ",('WI','Wisconsin','43.78444','-88.787868','2020-07-28 01:33:31.0',1,NULL)\n",
                ";\n",
                "INSERT INTO refdata_usstates (StateID,StateDescription,Lattitude,Longitude,CreatedDate,StatusID,CreatedUser) VALUES \n",
                "('WV','West Virginia','38.597626','-80.454903','2020-07-28 01:33:31.0',1,NULL)\n",
                ",('WY','Wyoming','43.075968','-107.290284','2020-07-28 01:33:31.0',1,NULL)\n",
                ";"
            ],
            "metadata": {
                "azdata_cell_guid": "1a14c6eb-1551-4f7c-a13a-d30c2130081f",
                "language": "sql",
                "tags": [
                    "hide_input"
                ]
            },
            "outputs": [
                {
                    "output_type": "display_data",
                    "data": {
                        "text/html": "US States"
                    },
                    "metadata": {}
                },
                {
                    "output_type": "display_data",
                    "data": {
                        "text/html": "(10 rows affected)"
                    },
                    "metadata": {}
                },
                {
                    "output_type": "display_data",
                    "data": {
                        "text/html": "(10 rows affected)"
                    },
                    "metadata": {}
                },
                {
                    "output_type": "display_data",
                    "data": {
                        "text/html": "(10 rows affected)"
                    },
                    "metadata": {}
                },
                {
                    "output_type": "display_data",
                    "data": {
                        "text/html": "(10 rows affected)"
                    },
                    "metadata": {}
                },
                {
                    "output_type": "display_data",
                    "data": {
                        "text/html": "(10 rows affected)"
                    },
                    "metadata": {}
                },
                {
                    "output_type": "display_data",
                    "data": {
                        "text/html": "(2 rows affected)"
                    },
                    "metadata": {}
                },
                {
                    "output_type": "display_data",
                    "data": {
                        "text/html": "Total execution time: 00:00:00.147"
                    },
                    "metadata": {}
                }
            ],
            "execution_count": 2
        },
        {
            "cell_type": "code",
            "source": [
                "PRINT 'Vendors'\n",
                "INSERT INTO refdata_vendor (VendorName,CreatedDate,StatusID,CreatedUser,VendorGUID) VALUES \n",
                "('Synthetic Open Source Comm','2020-07-28 01:25:00.0',1,NULL,'10b47338-d09b-11ea-9579-bba61161b25a');"
            ],
            "metadata": {
                "language": "sql",
                "azdata_cell_guid": "6a808ff0-a825-402b-b7d9-fd5dc8dac693",
                "tags": [
                    "hide_input"
                ]
            },
            "outputs": [
                {
                    "output_type": "display_data",
                    "data": {
                        "text/html": "Vendors"
                    },
                    "metadata": {}
                },
                {
                    "output_type": "display_data",
                    "data": {
                        "text/html": "(1 row affected)"
                    },
                    "metadata": {}
                },
                {
                    "output_type": "display_data",
                    "data": {
                        "text/html": "Total execution time: 00:00:00.067"
                    },
                    "metadata": {}
                }
            ],
            "execution_count": 1
        },
        {
            "cell_type": "code",
            "source": [
                "PRINT 'Industry Standards'\n",
                "INSERT INTO refdata_industrystd (IndustryStd,IndustryStdDesc,CreatedDate,StatusID) VALUES \n",
                "('EDI','EDI','2020-07-28 00:33:40.0',1)\n",
                ",('FHIR','HL7 FHIR','2020-07-28 00:33:40.0',1)\n",
                ",('HL7','HL7 v2','2020-07-28 00:33:40.0',1)\n",
                ",('NCPDP','NCPDP','2020-07-28 00:33:40.0',1)\n",
                ",('UNDF','Undefined','2020-07-28 00:33:40.0',1);"
            ],
            "metadata": {
                "language": "sql",
                "azdata_cell_guid": "1023648c-5634-40e4-bf2e-6676e62187b0",
                "tags": [
                    "hide_input"
                ]
            },
            "outputs": [
                {
                    "output_type": "display_data",
                    "data": {
                        "text/html": "Industry Standards"
                    },
                    "metadata": {}
                },
                {
                    "output_type": "error",
                    "evalue": "Msg 2627, Level 14, State 1, Line 2\nViolation of PRIMARY KEY constraint 'PK__refdata___B05D3BB3948F757A'. Cannot insert duplicate key in object 'dbo.refdata_industrystd'. The duplicate key value is (EDI).",
                    "ename": "",
                    "traceback": []
                },
                {
                    "output_type": "display_data",
                    "data": {
                        "text/html": "The statement has been terminated."
                    },
                    "metadata": {}
                },
                {
                    "output_type": "display_data",
                    "data": {
                        "text/html": "Total execution time: 00:00:00.052"
                    },
                    "metadata": {}
                }
            ],
            "execution_count": 3
        },
        {
            "cell_type": "code",
            "source": [
                "PRINT 'Sensitivity Flags'\n",
                "INSERT INTO refdata_sensitivityflag (SensitiveFlagDesc,CreatedDate,StatusID) VALUES \n",
                "('Undefined','2020-07-28 00:22:11.0',1)\n",
                ",('PHI','2020-07-28 00:22:11.0',1)\n",
                ",('PII','2020-07-28 00:22:11.0',1)\n",
                ",('Reference Data','2020-07-28 00:22:11.0',1)\n",
                ",('General Data','2020-07-28 00:22:11.0',1)\n",
                ",('N/A','2020-07-28 00:22:11.0',1)\n",
                ";"
            ],
            "metadata": {
                "language": "sql",
                "azdata_cell_guid": "edcc3858-bca2-49e0-9400-35804a5ea2ba"
            },
            "outputs": [
                {
                    "output_type": "display_data",
                    "data": {
                        "text/html": "Sensitivity Flags"
                    },
                    "metadata": {}
                },
                {
                    "output_type": "display_data",
                    "data": {
                        "text/html": "(6 rows affected)"
                    },
                    "metadata": {}
                },
                {
                    "output_type": "display_data",
                    "data": {
                        "text/html": "Total execution time: 00:00:00.045"
                    },
                    "metadata": {}
                }
            ],
            "execution_count": 5
        },
        {
            "cell_type": "code",
            "source": [
                "PRINT 'Codesets'\n",
                "INSERT INTO refdata_codeset (CodeSetName,IndustryStd,StatusID,CreatedDate,CreatedUser,CodesetGUID,FieldMapping,SensitivityFlagID,ExternalTableID,ExternalNotes,ExternalLink) VALUES\n",
                "                                                                                                                                            ('Race','HL7',1,'2020-07-28 02:04:43',NULL,NULL,'PID.10',4,NULL,NULL,NULL),\n",
                "                                                                                                                                                                                               ('Language','HL7',1,'2020-07-28 02:04:43',NULL,NULL,'PID.15',4,NULL,NULL,NULL),\n",
                "                                                                                                                                                                                               ('Marital Status','HL7',1,'2020-07-28 02:04:43',NULL,NULL,'PID.16',4,NULL,NULL,NULL),\n",
                "                                                                                                                                                                                               ('Religous Affiliation','HL7',1,'2020-07-28 02:04:43',NULL,NULL,'PID.17',4,NULL,NULL,NULL),\n",
                "                                                                                                                                                                                               ('Ethnicity','HL7',1,'2020-07-28 02:04:43',NULL,NULL,'PID.22',4,NULL,NULL,NULL),\n",
                "                                                                                                                                                                                               ('Birth Country/Citizenship','HL7',1,'2020-07-28 02:04:43',NULL,NULL,'PID.26',4,NULL,NULL,NULL),\n",
                "                                                                                                                                                                                               ('Patient Class','HL7',1,'2020-07-28 02:04:43',NULL,NULL,'PV1.2',4,NULL,NULL,NULL),\n",
                "                                                                                                                                                                                               ('Hospital Service','HL7',1,'2020-07-28 02:04:43',NULL,NULL,'PV1.10',4,NULL,NULL,NULL),\n",
                "                                                                                                                                                                                               ('Admit Source','HL7',1,'2020-07-28 02:04:43',NULL,NULL,'PV1.14',4,NULL,NULL,NULL),\n",
                "                                                                                                                                                                                               ('VIP Indicator','HL7',1,'2020-07-28 02:04:43',NULL,NULL,'PV1.16',4,NULL,NULL,NULL),\n",
                "                                                                                                                                                                                               ('Discharge Disposition','HL7',1,'2020-07-28 02:04:43',NULL,NULL,'PV1.36',4,NULL,NULL,NULL),\n",
                "                                                                                                                                                                                               ('Allergy Type','HL7',1,'2020-07-28 02:04:43',NULL,NULL,'AL1.2',4,NULL,NULL,NULL),\n",
                "                                                                                                                                                                                               ('Allergy Reaction Code','HL7',1,'2020-07-28 02:04:43',NULL,NULL,'AL1.5',4,NULL,NULL,NULL),\n",
                "                                                                                                                                                                                               ('Allergy Severity','HL7',1,'2020-07-28 02:04:43',NULL,NULL,'AL1.4',4,NULL,NULL,NULL),\n",
                "                                                                                                                                                                                               ('Diagnosis Code','HL7',1,'2020-07-28 02:04:43',NULL,NULL,'DG1.3',4,NULL,NULL,NULL),\n",
                "                                                                                                                                                                                               ('Diagnosis Type','HL7',1,'2020-07-28 02:04:43',NULL,NULL,'DG1.6',4,NULL,NULL,NULL),\n",
                "                                                                                                                                                                                               ('Procedure Code','HL7',1,'2020-07-28 02:04:43',NULL,NULL,'PR1.3',4,NULL,NULL,NULL),\n",
                "                                                                                                                                                                                               ('Consent Code','HL7',1,'2020-07-28 02:04:43',NULL,NULL,'PR1.13',4,NULL,NULL,NULL),\n",
                "                                                                                                                                                                                               ('Admit Type','HL7',1,'2020-07-28 02:04:43',NULL,NULL,'PV1.4',4,NULL,NULL,NULL),\n",
                "                                                                                                                                                                                               ('Ambulatory Status','HL7',1,'2020-07-28 02:04:43',NULL,NULL,'PV1.15',4,NULL,NULL,NULL),\n",
                "                                                                                                                                                                                               ('Administration Method','HL7',1,'2020-07-28 02:04:43',NULL,NULL,'RXR.4',4,NULL,NULL,NULL),\n",
                "                                                                                                                                                                                               ('Sensitivity to Causative Agent Code','HL7',1,'2020-07-28 02:04:43',NULL,NULL,'IAR.3',4,NULL,NULL,NULL),\n",
                "                                                                                                                                                                                               ('MDC','HL7',1,'2020-07-28 02:04:43',NULL,NULL,'DG1.7',4,NULL,NULL,NULL),\n",
                "                                                                                                                                                                                               ('Order Status','HL7',1,'2020-07-28 02:04:43',NULL,NULL,'ORC.5',4,NULL,NULL,NULL),\n",
                "                                                                                                                                                                                               ('Patient Type','HL7',1,'2020-07-28 02:04:43',NULL,NULL,'PV1.18',4,NULL,NULL,NULL),\n",
                "                                                                                                                                                                                               ('Medication Give Code','HL7',1,'2020-07-28 02:04:43',NULL,NULL,'RXO.1',4,NULL,NULL,NULL),\n",
                "                                                                                                                                                                                               ('Medication Requested Give Units','HL7',1,'2020-07-28 02:04:43',NULL,NULL,'RXO.4',4,NULL,NULL,NULL),\n",
                "                                                                                                                                                                                               ('Dispense Code','HL7',1,'2020-07-28 02:04:43',NULL,NULL,'RXO.10',4,NULL,NULL,NULL),\n",
                "                                                                                                                                                                                               ('Medication Requested Dispense Units','HL7',1,'2020-07-28 02:04:43',NULL,NULL,'RXO.12',4,NULL,NULL,NULL),\n",
                "                                                                                                                                                                                               ('Medication Give Strength Units','HL7',1,'2020-07-28 02:04:43',NULL,NULL,'RXO.18',4,NULL,NULL,NULL),\n",
                "                                                                                                                                                                                               ('Medication Route','HL7',1,'2020-07-28 02:04:43',NULL,NULL,'RXR.1',4,NULL,NULL,NULL),\n",
                "                                                                                                                                                                                               ('Medication Site','HL7',1,'2020-07-28 02:04:43',NULL,NULL,'RXR.2',4,NULL,NULL,NULL),\n",
                "                                                                                                                                                                                               ('Document Type','HL7',1,'2020-07-28 02:04:43',NULL,NULL,'TXA.2',4,NULL,NULL,NULL),\n",
                "                                                                                                                                                                                               ('Document Completion Status','HL7',1,'2020-07-28 02:04:43',NULL,NULL,'TXA.17',4,NULL,NULL,NULL),\n",
                "                                                                                                                                                                                               ('Document Confidentiality Status','HL7',1,'2020-07-28 02:04:43',NULL,NULL,'TXA.18',4,NULL,NULL,NULL),\n",
                "                                                                                                                                                                                               ('Document Availability Status','HL7',1,'2020-07-28 02:04:43',NULL,NULL,'TXA.19',4,NULL,NULL,NULL),\n",
                "                                                                                                                                                                                               ('Abnormal Flags','HL7',1,'2020-07-28 02:04:43',NULL,NULL,'OBX.8',4,NULL,NULL,NULL),\n",
                "                                                                                                                                                                                               ('Specimen Source','HL7',1,'2020-07-28 02:04:43',NULL,NULL,'OBR.15',4,NULL,NULL,NULL),\n",
                "                                                                                                                                                                                               ('Service Section ID','HL7',1,'2020-07-28 02:04:43',NULL,NULL,'OBR.24',4,NULL,NULL,NULL),\n",
                "                                                                                                                                                                                               ('Result Status','HL7',1,'2020-07-28 02:04:43',NULL,NULL,'OBR.25',4,NULL,NULL,NULL),\n",
                "                                                                                                                                                                                               ('Quantity Timing','HL7',1,'2020-07-28 02:04:43',NULL,NULL,'OBR.27',4,NULL,NULL,NULL),\n",
                "                                                                                                                                                                                               ('Immunization Site','HL7',1,'2020-07-28 02:04:43',NULL,NULL,'RXR.2',4,NULL,NULL,NULL),\n",
                "                                                                                                                                                                                               ('Immunization Route','HL7',1,'2020-07-28 02:04:43',NULL,NULL,'RXR.1',4,NULL,NULL,NULL),\n",
                "                                                                                                                                                                                               ('Immunization Completion Status','HL7',1,'2020-07-28 02:04:43',NULL,NULL,'RXA.20',4,NULL,NULL,NULL),\n",
                "                                                                                                                                                                                               ('Immunizaton Indicator','HL7',1,'2020-07-28 02:04:43',NULL,NULL,'RXA.19',4,NULL,NULL,NULL),\n",
                "                                                                                                                                                                                               ('Refusal Reason','HL7',1,'2020-07-28 02:04:43',NULL,NULL,'RXA.18',4,NULL,NULL,NULL),\n",
                "                                                                                                                                                                                               ('Administered Dosage Form','HL7',1,'2020-07-28 02:04:43',NULL,NULL,'RXA.8',4,NULL,NULL,NULL),\n",
                "                                                                                                                                                                                               ('Administered Units','HL7',1,'2020-07-28 02:04:43',NULL,NULL,'RXA.7',4,NULL,NULL,NULL),\n",
                "                                                                                                                                                                                               ('Action Code','HL7',1,'2020-07-28 02:04:43',NULL,NULL,'RXA.21',4,NULL,NULL,NULL),\n",
                "                                                                                                                                                                                               ('Specimen Action Code','HL7',1,'2020-07-28 02:04:43',NULL,NULL,'OBR.11',4,NULL,NULL,NULL),\n",
                "                                                                                                                                                                                               ('Lab Text Code','HL7',1,'2020-07-28 02:04:43',NULL,NULL,'OBX.2',4,NULL,NULL,NULL),\n",
                "                                                                                                                                                                                               ('Observaton Identifier Code','HL7',1,'2020-07-28 02:04:43',NULL,NULL,'OBX.20',4,NULL,NULL,NULL),\n",
                "                                                                                                                                                                                               ('Observation Units','HL7',1,'2020-07-28 02:04:43',NULL,NULL,'OBX.6',4,NULL,NULL,NULL),\n",
                "                                                                                                                                                                                               ('Abnormal Method','HL7',1,'2020-07-28 02:04:43',NULL,NULL,'RXR.4',4,NULL,NULL,NULL),\n",
                "                                                                                                                                                                                               ('Lab Result Status','HL7',1,'2020-07-28 02:04:43',NULL,NULL,'OBX.11',4,NULL,NULL,NULL),\n",
                "                                                                                                                                                                                               ('Observation Method','HL7',1,'2020-07-28 02:04:43',NULL,NULL,'OBX.17',4,NULL,NULL,NULL),\n",
                "                                                                                                                                                                                               ('Problem Code','HL7',1,'2020-07-28 02:04:43',NULL,NULL,'PRB.1',4,NULL,NULL,NULL),\n",
                "                                                                                                                                                                                               ('Problem Classification Code','HL7',1,'2020-07-28 02:04:43',NULL,NULL,'PRB.28',4,NULL,NULL,NULL),\n",
                "                                                                                                                                                                                               ('Problem Severity','HL7',1,'2020-07-28 02:04:43',NULL,NULL,'PRB.26',4,NULL,NULL,NULL),\n",
                "                                                                                                                                                                                               ('Observation Method','HL7',1,'2021-04-10 21:04:33',NULL,NULL,'OBX.17',4,NULL,NULL,NULL),\n",
                "                                                                                                                                                                                               ('Patient Release Category','HL7',1,'2021-04-10 21:04:33',NULL,NULL,'OBX.26',4,NULL,NULL,NULL),\n",
                "                                                                                                                                                                                               ('Gender','HL7',1,'2021-04-10 21:09:50',NULL,NULL,'PID.8',4,NULL,NULL,NULL),\n",
                "                                                                                                                                                                                               ('Nationality','HL7',1,'2021-04-10 21:09:50',NULL,NULL,'PID.28',4,NULL,NULL,NULL),\n",
                "                                                                                                                                                                                               ('Death Indicator','HL7',1,'2021-04-10 21:09:50',NULL,NULL,'PID.30',4,NULL,NULL,NULL),\n",
                "                                                                                                                                                                                               ('Ins. Plan Type','HL7',1,'2021-04-10 21:09:50',NULL,NULL,'IN1.15',4,NULL,NULL,NULL),\n",
                "                                                                                                                                                                                               ('Insurance Relation To Patient','HL7',1,'2021-04-10 21:09:50',NULL,NULL,'IN1.17',4,NULL,NULL,NULL),\n",
                "                                                                                                                                                                                               ('Release Info','HL7',1,'2021-04-10 21:09:50',NULL,NULL,'IN1.27',4,NULL,NULL,NULL),\n",
                "                                                                                                                                                                                               ('Ins Coverage','HL7',1,'2021-04-10 21:09:50',NULL,NULL,'IN1.47',4,NULL,NULL,NULL),\n",
                "                                                                                                                                                                                               ('Employment Status','HL7',1,'2021-04-10 21:09:50',NULL,NULL,'IN1.42',4,NULL,NULL,NULL),\n",
                "                                                                                                                                                                                               ('Readmission Indicator','HL7',1,'2021-07-09 22:57:22.0',NULL,NULL,'PV1.13',4,NULL,NULL,NULL),\n",
                "                                                                                                                                                                                               ('Allergy Code','FHIR',1,'2021-08-23 19:10:55',NULL,NULL,'clinicalStatus.coding',4,'N/A',NULL,'http://terminology.hl7.org/CodeSystem/allergyintolerance-clinical'),\n",
                "                                                                                                                                                                                               ('AllergyVerificationStatus','FHIR',1,'2021-08-23 19:14:51',NULL,NULL,'verificationStatus.Coding',4,'N/A',NULL,'http://terminology.hl7.org/CodeSystem/allergyintolerance-verification'),\n",
                "                                                                                                                                                                                               ('MedicationCoding - RxNorm','FHIR',1,'2021-08-23 19:17:42',NULL,NULL,'medication.coding',4,'N/A',NULL,'http://www.nlm.nih.gov/research/umls/rxnorm'),\n",
                "                                                                                                                                                                                               ('Reaction-SnoMed','FHIR',1,'2021-08-23 19:19:09',NULL,NULL,'reaction.manifestation.coding',4,'N/A',NULL,'http://snomed.info/sct'),\n",
                "                                                                                                                                                                                               ('Allergy Code','HL7',1,'2021-08-24 18:27:16',NULL,NULL,'AL1.3',4,NULL,NULL,NULL);"
            ],
            "metadata": {
                "language": "sql",
                "azdata_cell_guid": "432d3cbc-2dc4-4870-a3b1-fd69bf28d285",
                "tags": [
                    "hide_input"
                ]
            },
            "outputs": [
                {
                    "output_type": "display_data",
                    "data": {
                        "text/html": "Codesets"
                    },
                    "metadata": {}
                },
                {
                    "output_type": "display_data",
                    "data": {
                        "text/html": "(75 rows affected)"
                    },
                    "metadata": {}
                },
                {
                    "output_type": "display_data",
                    "data": {
                        "text/html": "Total execution time: 00:00:00.120"
                    },
                    "metadata": {}
                }
            ],
            "execution_count": 6
        },
        {
            "cell_type": "code",
            "source": [
                "PRINT 'DATA ATTRIBUTES'"
            ],
            "metadata": {
                "language": "sql",
                "azdata_cell_guid": "0c15f7f8-10d9-43a8-adaa-742c60d0f9c1"
            },
            "outputs": [],
            "execution_count": null
        },
        {
            "cell_type": "code",
            "source": [
                "PRINT 'Data Generator Types'\n",
                "INSERT INTO refdata_datagentypes (DataGenTypeDescription,Definition,DataAttributeID,CreatedDate,StatusID,CreatedUser) VALUES\n",
                "     ('Master','^5[1-5][0-9]{14}$',6,'2021-05-24 19:48:20',1,NULL),\n",
                "\t ('Visa','^4[0-9]{12}(?:[0-9]{3})?$',6,'2021-05-24 19:48:20',1,NULL),\n",
                "\t ('Discover','^65[4-9][0-9]{13}|64[4-9][0-9]{13}|6011[0-9]{12}|(622(?:12[6-9]|1[3-9][0-9]|[2-8][0-9][0-9]|9[01][0-9]|92[0-5])[0-9]{10})$',6,'2021-05-24 19:48:20',1,NULL),\n",
                "\t ('AMEX','^3[47][0-9]{13}$',6,'2021-05-24 19:48:20',1,NULL),\n",
                "\t ('AL','^[0-9]{7,8}$',9,'2021-05-24 19:48:20',1,NULL),\n",
                "\t ('AK','^[0-9]{7}$',9,'2021-05-24 19:48:20',1,NULL),\n",
                "\t ('AZ','^[A-Z]{1}[0-9]{8}$',9,'2021-05-24 19:48:20',1,NULL),\n",
                "\t ('AR','^[0-9]{9}$',9,'2021-05-24 19:48:20',1,NULL),\n",
                "\t ('CA','^[A-Z]{1}[0-9]{7}$',9,'2021-05-24 19:48:20',1,NULL),\n",
                "\t ('CO','^[0-9]{9}$',9,'2021-05-24 19:48:20',1,NULL);\n",
                "INSERT INTO refdata_datagentypes (DataGenTypeDescription,Definition,DataAttributeID,CreatedDate,StatusID,CreatedUser) VALUES \t \n",
                "\t ('CT','^[0-9]{9}$',9,'2021-05-24 19:48:20',1,NULL),\n",
                "\t ('DE','^[0-9]{1,7}$',9,'2021-05-24 19:48:20',1,NULL),\n",
                "\t ('DC','^[0-9]{7}$',9,'2021-05-24 19:48:20',1,NULL),\n",
                "\t ('FL','^[A-Z]{1}[0-9]{12}$',9,'2021-05-24 19:48:20',1,NULL),\n",
                "\t ('GA','^[0-9]{9}$',9,'2021-05-24 19:48:20',1,NULL),\n",
                "\t ('HI','^H[0-9]{8}$',9,'2021-05-24 19:48:20',1,NULL),\n",
                "\t ('ID','^[A-Z]{3}[0-9]{6}$',9,'2021-05-24 19:48:20',1,NULL),\n",
                "\t ('IL','^[A-Z]{1}[0-9]{11}$',9,'2021-05-24 19:48:20',1,NULL),\n",
                "\t ('IN','^[0-9]{10}$',9,'2021-05-24 19:48:20',1,NULL),\n",
                "\t ('IA','^[A-Z]{3}[0-9]{2}[A-Z]{4}$',9,'2021-05-24 19:48:20',1,NULL);\n",
                "INSERT INTO refdata_datagentypes (DataGenTypeDescription,Definition,DataAttributeID,CreatedDate,StatusID,CreatedUser) VALUES \n",
                "\t ('KS','^K[0-9]{8}$',9,'2021-05-24 19:48:20',1,NULL),\n",
                "\t ('KY','^[A-Z]{1}[0-9]{8}$',9,'2021-05-24 19:48:20',1,NULL),\n",
                "\t ('LA','^0[0-9]{8}$',9,'2021-05-24 19:48:20',1,NULL),\n",
                "\t ('ME','^[0-9]{7}$',9,'2021-05-24 19:48:20',1,NULL),\n",
                "\t ('MD','^[A-Z]{1}[0-9]{12}$',9,'2021-05-24 19:48:20',1,NULL),\n",
                "\t ('MA','^S[0-9]{8}$',9,'2021-05-24 19:48:21',1,NULL),\n",
                "\t ('MI','^[A-Z]{1}[0-9]{12}$',9,'2021-05-24 19:48:21',1,NULL),\n",
                "\t ('MN','^[A-Z]{1}[0-9]{12}$',9,'2021-05-24 19:48:21',1,NULL),\n",
                "\t ('MS','^[0-9]{9}$',9,'2021-05-24 19:48:21',1,NULL),\n",
                "\t ('MO','^[A-Z]{1}[0-9]{9}$',9,'2021-05-24 19:48:21',1,NULL);\n",
                "INSERT INTO refdata_datagentypes (DataGenTypeDescription,Definition,DataAttributeID,CreatedDate,StatusID,CreatedUser) VALUES \n",
                "\t ('MT','^[0-9]{13}$',9,'2021-05-24 19:48:21',1,NULL),\n",
                "\t ('NE','^[A-Z]{1}[0-9]{8}$',9,'2021-05-24 19:48:21',1,NULL),\n",
                "\t ('NV','^[0-9]{12}$',9,'2021-05-24 19:48:21',1,NULL),\n",
                "\t ('NH','^[A-Z]{3}[0-9]{8}$',9,'2021-05-24 19:48:21',1,NULL),\n",
                "\t ('NJ','^[A-Z]{1}[0-9]{14}$',9,'2021-05-24 19:48:21',1,NULL),\n",
                "\t ('NM','^[0-9]{9}$',9,'2021-05-24 19:48:21',1,NULL),\n",
                "\t ('NY','^[0-9]{9}$',9,'2021-05-24 19:48:21',1,NULL),\n",
                "\t ('NC','^[0-9]{12}$',9,'2021-05-24 19:48:21',1,NULL),\n",
                "\t ('ND','^[A-Z]{3}[0-9]{6}$',9,'2021-05-24 19:48:21',1,NULL),\n",
                "\t ('OH','^[A-Z]{2}[0-9]{6}$',9,'2021-05-24 19:48:21',1,NULL);\n",
                "INSERT INTO refdata_datagentypes (DataGenTypeDescription,Definition,DataAttributeID,CreatedDate,StatusID,CreatedUser) VALUES \n",
                "\t ('OK','^[A-Z]{1}[0-9]{9}$',9,'2021-05-24 19:48:21',1,NULL),\n",
                "\t ('OR','^[A-Z]{1}[0-9]{6,7}$',9,'2021-05-24 19:48:21',1,NULL),\n",
                "\t ('PA','^[0-9]{8}$',9,'2021-05-24 19:48:21',1,NULL),\n",
                "\t ('RI','(^V[0-9]{6}$)|(^[0-9]{7}$)',9,'2021-05-24 19:48:21',1,NULL),\n",
                "\t ('SC','^[0-9]{6,11}$',9,'2021-05-24 19:48:21',1,NULL),\n",
                "\t ('SD','^[0-9]{8,9}$',9,'2021-05-24 19:48:21',1,NULL),\n",
                "\t ('TN','^[0-9]{7,9}$',9,'2021-05-24 19:48:21',1,NULL),\n",
                "\t ('TX','^[0-9]{8}$',9,'2021-05-24 19:48:21',1,NULL),\n",
                "\t ('UT','^[0-9]{4,10}$',9,'2021-05-24 19:48:21',1,NULL),\n",
                "\t ('VT','(^[0-9]{7}A$)|(^[0-9]{8}$)',9,'2021-05-24 19:48:21',1,NULL);\n",
                "INSERT INTO refdata_datagentypes (DataGenTypeDescription,Definition,DataAttributeID,CreatedDate,StatusID,CreatedUser) VALUES \n",
                "\t ('VA','^[A-Z]{1}[0-9]{8}$',9,'2021-05-24 19:48:21',1,NULL),\n",
                "\t ('WA','(^[A-Z]{7}[0-9]{5}$)|(^[A-Z]{7}[0-9]{3}[A-Z]{2}$)',9,'2021-05-24 19:48:21',1,NULL),\n",
                "\t ('WV','^[A-Z]{1}[0-9]{6}$',9,'2021-05-24 19:48:21',1,NULL),\n",
                "\t ('WI','^[A-Z]{1}[0-9]{13}$',9,'2021-05-24 19:48:21',1,NULL),\n",
                "\t ('WY','^[0-9]{9}$',9,'2021-05-24 19:48:21',1,NULL),\n",
                "\t ('Numeric','^[0-9]{9}$',14,'2021-05-24 19:48:21',1,NULL),\n",
                "\t ('Mixed','^[A-Z]{2}[%#@&]{1}[0-9]{5}[A-Z]{1}$',14,'2021-05-24 19:48:21',1,NULL),\n",
                "\t ('Peoples Bank','^[0-9]{10}$',7,'2021-05-24 19:48:21',1,NULL),\n",
                "\t ('Cadeceus','^[%#@&]{1}[A-Z]{3}[%#@&]{1}[0-9]{1}[A-Z]{2}$',15,'2021-05-24 19:48:21',1,NULL);\n",
                ""
            ],
            "metadata": {
                "language": "sql",
                "azdata_cell_guid": "6b7c8836-c236-42e0-929a-49197b9dbece"
            },
            "outputs": [
                {
                    "output_type": "display_data",
                    "data": {
                        "text/html": "Data Generator Types"
                    },
                    "metadata": {}
                },
                {
                    "output_type": "error",
                    "evalue": "Msg 547, Level 16, State 0, Line 2\nThe INSERT statement conflicted with the FOREIGN KEY constraint \"FK__refdata_d__dataa__1881A0DE\". The conflict occurred in database \"datasynth\", table \"dbo.platform_dataattributes\", column 'platformdataattributesid'.",
                    "ename": "",
                    "traceback": []
                },
                {
                    "output_type": "display_data",
                    "data": {
                        "text/html": "The statement has been terminated."
                    },
                    "metadata": {}
                },
                {
                    "output_type": "error",
                    "evalue": "Msg 547, Level 16, State 0, Line 13\nThe INSERT statement conflicted with the FOREIGN KEY constraint \"FK__refdata_d__dataa__1881A0DE\". The conflict occurred in database \"datasynth\", table \"dbo.platform_dataattributes\", column 'platformdataattributesid'.",
                    "ename": "",
                    "traceback": []
                },
                {
                    "output_type": "display_data",
                    "data": {
                        "text/html": "The statement has been terminated."
                    },
                    "metadata": {}
                },
                {
                    "output_type": "error",
                    "evalue": "Msg 547, Level 16, State 0, Line 24\nThe INSERT statement conflicted with the FOREIGN KEY constraint \"FK__refdata_d__dataa__1881A0DE\". The conflict occurred in database \"datasynth\", table \"dbo.platform_dataattributes\", column 'platformdataattributesid'.",
                    "ename": "",
                    "traceback": []
                },
                {
                    "output_type": "display_data",
                    "data": {
                        "text/html": "The statement has been terminated."
                    },
                    "metadata": {}
                },
                {
                    "output_type": "error",
                    "evalue": "Msg 547, Level 16, State 0, Line 35\nThe INSERT statement conflicted with the FOREIGN KEY constraint \"FK__refdata_d__dataa__1881A0DE\". The conflict occurred in database \"datasynth\", table \"dbo.platform_dataattributes\", column 'platformdataattributesid'.",
                    "ename": "",
                    "traceback": []
                },
                {
                    "output_type": "display_data",
                    "data": {
                        "text/html": "The statement has been terminated."
                    },
                    "metadata": {}
                },
                {
                    "output_type": "error",
                    "evalue": "Msg 547, Level 16, State 0, Line 46\nThe INSERT statement conflicted with the FOREIGN KEY constraint \"FK__refdata_d__dataa__1881A0DE\". The conflict occurred in database \"datasynth\", table \"dbo.platform_dataattributes\", column 'platformdataattributesid'.",
                    "ename": "",
                    "traceback": []
                },
                {
                    "output_type": "display_data",
                    "data": {
                        "text/html": "The statement has been terminated."
                    },
                    "metadata": {}
                },
                {
                    "output_type": "error",
                    "evalue": "Msg 547, Level 16, State 0, Line 57\nThe INSERT statement conflicted with the FOREIGN KEY constraint \"FK__refdata_d__dataa__1881A0DE\". The conflict occurred in database \"datasynth\", table \"dbo.platform_dataattributes\", column 'platformdataattributesid'.",
                    "ename": "",
                    "traceback": []
                },
                {
                    "output_type": "display_data",
                    "data": {
                        "text/html": "The statement has been terminated."
                    },
                    "metadata": {}
                },
                {
                    "output_type": "display_data",
                    "data": {
                        "text/html": "Total execution time: 00:00:00.156"
                    },
                    "metadata": {}
                }
            ],
            "execution_count": 8
        },
        {
            "cell_type": "code",
            "source": [
                "PRINT 'Countries'\n",
                "INSERT INTO refdata_countries (IDD,CountryName,CreatedDate,StatusID) VALUES \n",
                "('93','Afghanistan','2020-07-28 01:37:16.0',1)\n",
                ",('355','Albania','2020-07-28 01:37:16.0',1)\n",
                ",('213','Algeria','2020-07-28 01:37:16.0',1)\n",
                ",('684','American Samoa','2020-07-28 01:37:16.0',1)\n",
                ",('376','Andorra','2020-07-28 01:37:16.0',1)\n",
                ",('244','Angola','2020-07-28 01:37:16.0',1)\n",
                ",('809','Anguilla','2020-07-28 01:37:16.0',1)\n",
                ",('268','Antigua','2020-07-28 01:37:16.0',1)\n",
                ",('54','Argentina','2020-07-28 01:37:16.0',1)\n",
                ",('374','Armenia','2020-07-28 01:37:16.0',1)\n",
                ";\n",
                "INSERT INTO refdata_countries (IDD,CountryName,CreatedDate,StatusID) VALUES \n",
                "('297','Aruba','2020-07-28 01:37:16.0',1)\n",
                ",('247','Ascension Island','2020-07-28 01:37:16.0',1)\n",
                ",('61','Australia','2020-07-28 01:37:16.0',1)\n",
                ",('672','Australian External Territories','2020-07-28 01:37:16.0',1)\n",
                ",('43','Austria','2020-07-28 01:37:16.0',1)\n",
                ",('994','Azerbaijan','2020-07-28 01:37:16.0',1)\n",
                ",('242','Bahamas','2020-07-28 01:37:16.0',1)\n",
                ",('246','Barbados','2020-07-28 01:37:16.0',1)\n",
                ",('973','Bahrain','2020-07-28 01:37:16.0',1)\n",
                ",('880','Bangladesh','2020-07-28 01:37:16.0',1)\n",
                ";\n",
                "INSERT INTO refdata_countries (IDD,CountryName,CreatedDate,StatusID) VALUES \n",
                "('375','Belarus','2020-07-28 01:37:16.0',1)\n",
                ",('32','Belgium','2020-07-28 01:37:16.0',1)\n",
                ",('501','Belize','2020-07-28 01:37:16.0',1)\n",
                ",('229','Benin','2020-07-28 01:37:16.0',1)\n",
                ",('809','Bermuda','2020-07-28 01:37:16.0',1)\n",
                ",('975','Bhutan','2020-07-28 01:37:16.0',1)\n",
                ",('284','British Virgin Islands','2020-07-28 01:37:16.0',1)\n",
                ",('591','Bolivia','2020-07-28 01:37:16.0',1)\n",
                ",('387','Bosnia and Hercegovina','2020-07-28 01:37:16.0',1)\n",
                ",('267','Botswana','2020-07-28 01:37:16.0',1)\n",
                ";\n",
                "INSERT INTO refdata_countries (IDD,CountryName,CreatedDate,StatusID) VALUES \n",
                "('55','Brazil','2020-07-28 01:37:16.0',1)\n",
                ",('284','British V.I.','2020-07-28 01:37:16.0',1)\n",
                ",('673','Brunei Darussalm','2020-07-28 01:37:16.0',1)\n",
                ",('359','Bulgaria','2020-07-28 01:37:16.0',1)\n",
                ",('226','Burkina Faso','2020-07-28 01:37:16.0',1)\n",
                ",('257','Burundi','2020-07-28 01:37:16.0',1)\n",
                ",('855','Cambodia','2020-07-28 01:37:16.0',1)\n",
                ",('237','Cameroon','2020-07-28 01:37:16.0',1)\n",
                ",('1','Canada','2020-07-28 01:37:16.0',1)\n",
                ",('238','CapeVerde Islands','2020-07-28 01:37:16.0',1)\n",
                ";\n",
                "INSERT INTO refdata_countries (IDD,CountryName,CreatedDate,StatusID) VALUES \n",
                "('1','Caribbean Nations','2020-07-28 01:37:16.0',1)\n",
                ",('345','Cayman Islands','2020-07-28 01:37:16.0',1)\n",
                ",('238','Cape Verdi','2020-07-28 01:37:16.0',1)\n",
                ",('236','Central African Republic','2020-07-28 01:37:16.0',1)\n",
                ",('235','Chad','2020-07-28 01:37:16.0',1)\n",
                ",('56','Chile','2020-07-28 01:37:16.0',1)\n",
                ",('86','China (People''s Republic)','2020-07-28 01:37:16.0',1)\n",
                ",('886','China-Taiwan','2020-07-28 01:37:16.0',1)\n",
                ",('57','Colombia','2020-07-28 01:37:16.0',1)\n",
                ",('269','Comoros and Mayotte','2020-07-28 01:37:16.0',1)\n",
                ";\n",
                "INSERT INTO refdata_countries (IDD,CountryName,CreatedDate,StatusID) VALUES \n",
                "('242','Congo','2020-07-28 01:37:16.0',1)\n",
                ",('682','Cook Islands','2020-07-28 01:37:16.0',1)\n",
                ",('506','Costa Rica','2020-07-28 01:37:16.0',1)\n",
                ",('385','Croatia','2020-07-28 01:37:16.0',1)\n",
                ",('53','Cuba','2020-07-28 01:37:16.0',1)\n",
                ",('357','Cyprus','2020-07-28 01:37:16.0',1)\n",
                ",('420','Czech Republic','2020-07-28 01:37:16.0',1)\n",
                ",('45','Denmark','2020-07-28 01:37:16.0',1)\n",
                ",('246','Diego Garcia','2020-07-28 01:37:16.0',1)\n",
                ",('767','Dominca','2020-07-28 01:37:16.0',1)\n",
                ";\n",
                "INSERT INTO refdata_countries (IDD,CountryName,CreatedDate,StatusID) VALUES \n",
                "('809','Dominican Republic','2020-07-28 01:37:16.0',1)\n",
                ",('253','Djibouti','2020-07-28 01:37:16.0',1)\n",
                ",('593','Ecuador','2020-07-28 01:37:16.0',1)\n",
                ",('20','Egypt','2020-07-28 01:37:16.0',1)\n",
                ",('503','El Salvador','2020-07-28 01:37:16.0',1)\n",
                ",('240','Equatorial Guinea','2020-07-28 01:37:16.0',1)\n",
                ",('291','Eritrea','2020-07-28 01:37:16.0',1)\n",
                ",('372','Estonia','2020-07-28 01:37:16.0',1)\n",
                ",('251','Ethiopia','2020-07-28 01:37:16.0',1)\n",
                ",('500','Falkland Islands','2020-07-28 01:37:16.0',1)\n",
                ";\n",
                "INSERT INTO refdata_countries (IDD,CountryName,CreatedDate,StatusID) VALUES \n",
                "('298','Faroe (Faeroe) Islands (Denmark)','2020-07-28 01:37:16.0',1)\n",
                ",('679','Fiji','2020-07-28 01:37:16.0',1)\n",
                ",('358','Finland','2020-07-28 01:37:16.0',1)\n",
                ",('33','France','2020-07-28 01:37:16.0',1)\n",
                ",('596','French Antilles','2020-07-28 01:37:16.0',1)\n",
                ",('594','French Guiana','2020-07-28 01:37:16.0',1)\n",
                ",('241','Gabon (Gabonese Republic)','2020-07-28 01:37:16.0',1)\n",
                ",('220','Gambia','2020-07-28 01:37:16.0',1)\n",
                ",('995','Georgia','2020-07-28 01:37:16.0',1)\n",
                ",('49','Germany','2020-07-28 01:37:16.0',1)\n",
                ";\n",
                "INSERT INTO refdata_countries (IDD,CountryName,CreatedDate,StatusID) VALUES \n",
                "('233','Ghana','2020-07-28 01:37:16.0',1)\n",
                ",('350','Gibraltar','2020-07-28 01:37:16.0',1)\n",
                ",('30','Greece','2020-07-28 01:37:16.0',1)\n",
                ",('299','Greenland','2020-07-28 01:37:16.0',1)\n",
                ",('473','Grenada/Carricou','2020-07-28 01:37:16.0',1)\n",
                ",('671','Guam','2020-07-28 01:37:16.0',1)\n",
                ",('502','Guatemala','2020-07-28 01:37:16.0',1)\n",
                ",('224','Guinea','2020-07-28 01:37:16.0',1)\n",
                ",('245','Guinea-Bissau','2020-07-28 01:37:16.0',1)\n",
                ",('592','Guyana','2020-07-28 01:37:16.0',1)\n",
                ";\n",
                "INSERT INTO refdata_countries (IDD,CountryName,CreatedDate,StatusID) VALUES \n",
                "('509','Haiti','2020-07-28 01:37:16.0',1)\n",
                ",('504','Honduras','2020-07-28 01:37:16.0',1)\n",
                ",('852','Hong Kong','2020-07-28 01:37:16.0',1)\n",
                ",('36','Hungary','2020-07-28 01:37:16.0',1)\n",
                ",('354','Iceland','2020-07-28 01:37:16.0',1)\n",
                ",('91','India','2020-07-28 01:37:16.0',1)\n",
                ",('62','Indonesia','2020-07-28 01:37:16.0',1)\n",
                ",('98','Iran','2020-07-28 01:37:16.0',1)\n",
                ",('964','Iraq','2020-07-28 01:37:16.0',1)\n",
                ",('353','Ireland (Irish Republic; Eire)','2020-07-28 01:37:16.0',1)\n",
                ";\n",
                "INSERT INTO refdata_countries (IDD,CountryName,CreatedDate,StatusID) VALUES \n",
                "('972','Israel','2020-07-28 01:37:16.0',1)\n",
                ",('39','Italy','2020-07-28 01:37:16.0',1)\n",
                ",('225','Ivory Coast (La Cote d''Ivoire)','2020-07-28 01:37:16.0',1)\n",
                ",('876','Jamaica','2020-07-28 01:37:16.0',1)\n",
                ",('81','Japan','2020-07-28 01:37:16.0',1)\n",
                ",('962','Jordan','2020-07-28 01:37:16.0',1)\n",
                ",('7','Kazakhstan','2020-07-28 01:37:16.0',1)\n",
                ",('254','Kenya','2020-07-28 01:37:16.0',1)\n",
                ",('855','Khmer Republic (Cambodia/Kampuchea)','2020-07-28 01:37:16.0',1)\n",
                ",('686','Kiribati Republic (Gilbert Islands)','2020-07-28 01:37:16.0',1)\n",
                ";\n",
                "INSERT INTO refdata_countries (IDD,CountryName,CreatedDate,StatusID) VALUES \n",
                "('82','Korea - Republic of (South Korea)','2020-07-28 01:37:16.0',1)\n",
                ",('850','Korea - People''s Republic of (North Korea)','2020-07-28 01:37:16.0',1)\n",
                ",('965','Kuwait','2020-07-28 01:37:16.0',1)\n",
                ",('996','Kyrgyz Republic','2020-07-28 01:37:16.0',1)\n",
                ",('371','Latvia','2020-07-28 01:37:16.0',1)\n",
                ",('856','Laos','2020-07-28 01:37:16.0',1)\n",
                ",('961','Lebanon','2020-07-28 01:37:16.0',1)\n",
                ",('266','Lesotho','2020-07-28 01:37:16.0',1)\n",
                ",('231','Liberia','2020-07-28 01:37:16.0',1)\n",
                ",('370','Lithuania','2020-07-28 01:37:16.0',1)\n",
                ";\n",
                "INSERT INTO refdata_countries (IDD,CountryName,CreatedDate,StatusID) VALUES \n",
                "('218','Libya','2020-07-28 01:37:16.0',1)\n",
                ",('423','Liechtenstein','2020-07-28 01:37:16.0',1)\n",
                ",('352','Luxembourg','2020-07-28 01:37:16.0',1)\n",
                ",('853','Macao','2020-07-28 01:37:16.0',1)\n",
                ",('389','Macedonia','2020-07-28 01:37:16.0',1)\n",
                ",('261','Madagascar','2020-07-28 01:37:16.0',1)\n",
                ",('265','Malawi','2020-07-28 01:37:16.0',1)\n",
                ",('60','Malaysia','2020-07-28 01:37:16.0',1)\n",
                ",('960','Maldives','2020-07-28 01:37:16.0',1)\n",
                ",('223','Mali','2020-07-28 01:37:16.0',1)\n",
                ";\n",
                "INSERT INTO refdata_countries (IDD,CountryName,CreatedDate,StatusID) VALUES \n",
                "('356','Malta','2020-07-28 01:37:16.0',1)\n",
                ",('692','Marshall Islands','2020-07-28 01:37:16.0',1)\n",
                ",('596','Martinique (French Antilles)','2020-07-28 01:37:16.0',1)\n",
                ",('222','Mauritania','2020-07-28 01:37:16.0',1)\n",
                ",('230','Mauritius','2020-07-28 01:37:16.0',1)\n",
                ",('269','Mayolte','2020-07-28 01:37:16.0',1)\n",
                ",('52','Mexico','2020-07-28 01:37:16.0',1)\n",
                ",('691','Micronesia (F.S. of Polynesia)','2020-07-28 01:37:16.0',1)\n",
                ",('373','Moldova','2020-07-28 01:37:16.0',1)\n",
                ",('33','Monaco','2020-07-28 01:37:16.0',1)\n",
                ";\n",
                "INSERT INTO refdata_countries (IDD,CountryName,CreatedDate,StatusID) VALUES \n",
                "('976','Mongolia','2020-07-28 01:37:16.0',1)\n",
                ",('473','Montserrat','2020-07-28 01:37:16.0',1)\n",
                ",('212','Morocco','2020-07-28 01:37:16.0',1)\n",
                ",('258','Mozambique','2020-07-28 01:37:16.0',1)\n",
                ",('95','Myanmar (former Burma)','2020-07-28 01:37:16.0',1)\n",
                ",('264','Namibia (former South-West Africa)','2020-07-28 01:37:16.0',1)\n",
                ",('674','Nauru','2020-07-28 01:37:16.0',1)\n",
                ",('977','Nepal','2020-07-28 01:37:16.0',1)\n",
                ",('31','Netherlands','2020-07-28 01:37:16.0',1)\n",
                ",('599','Netherlands Antilles','2020-07-28 01:37:16.0',1)\n",
                ";\n",
                "INSERT INTO refdata_countries (IDD,CountryName,CreatedDate,StatusID) VALUES \n",
                "('869','Nevis','2020-07-28 01:37:16.0',1)\n",
                ",('687','New Caledonia','2020-07-28 01:37:16.0',1)\n",
                ",('64','New Zealand','2020-07-28 01:37:16.0',1)\n",
                ",('505','Nicaragua','2020-07-28 01:37:16.0',1)\n",
                ",('227','Niger','2020-07-28 01:37:16.0',1)\n",
                ",('234','Nigeria','2020-07-28 01:37:16.0',1)\n",
                ",('683','Niue','2020-07-28 01:37:16.0',1)\n",
                ",('850','North Korea','2020-07-28 01:37:16.0',1)\n",
                ",('1 670','North Mariana Islands (Saipan)','2020-07-28 01:37:16.0',1)\n",
                ",('47','Norway','2020-07-28 01:37:16.0',1)\n",
                ";\n",
                "INSERT INTO refdata_countries (IDD,CountryName,CreatedDate,StatusID) VALUES \n",
                "('968','Oman','2020-07-28 01:37:16.0',1)\n",
                ",('92','Pakistan','2020-07-28 01:37:16.0',1)\n",
                ",('680','Palau','2020-07-28 01:37:16.0',1)\n",
                ",('507','Panama','2020-07-28 01:37:16.0',1)\n",
                ",('675','Papua New Guinea','2020-07-28 01:37:16.0',1)\n",
                ",('595','Paraguay','2020-07-28 01:37:16.0',1)\n",
                ",('51','Peru','2020-07-28 01:37:16.0',1)\n",
                ",('63','Philippines','2020-07-28 01:37:16.0',1)\n",
                ",('48','Poland','2020-07-28 01:37:16.0',1)\n",
                ",('351','Portugal (includes Azores)','2020-07-28 01:37:16.0',1)\n",
                ";\n",
                "INSERT INTO refdata_countries (IDD,CountryName,CreatedDate,StatusID) VALUES \n",
                "('1 787','Puerto Rico','2020-07-28 01:37:16.0',1)\n",
                ",('974','Qatar','2020-07-28 01:37:16.0',1)\n",
                ",('262','Reunion (France)','2020-07-28 01:37:16.0',1)\n",
                ",('40','Romania','2020-07-28 01:37:16.0',1)\n",
                ",('7','Russia','2020-07-28 01:37:16.0',1)\n",
                ",('250','Rwanda (Rwandese Republic)','2020-07-28 01:37:16.0',1)\n",
                ",('670','Saipan','2020-07-28 01:37:16.0',1)\n",
                ",('378','San Marino','2020-07-28 01:37:16.0',1)\n",
                ",('239','Sao Tome and Principe','2020-07-28 01:37:16.0',1)\n",
                ",('966','Saudi Arabia','2020-07-28 01:37:16.0',1)\n",
                ";\n",
                "INSERT INTO refdata_countries (IDD,CountryName,CreatedDate,StatusID) VALUES \n",
                "('221','Senegal','2020-07-28 01:37:16.0',1)\n",
                ",('381','Serbia and Montenegro','2020-07-28 01:37:16.0',1)\n",
                ",('248','Seychelles','2020-07-28 01:37:16.0',1)\n",
                ",('232','Sierra Leone','2020-07-28 01:37:16.0',1)\n",
                ",('65','Singapore','2020-07-28 01:37:16.0',1)\n",
                ",('421','Slovakia','2020-07-28 01:37:16.0',1)\n",
                ",('386','Slovenia','2020-07-28 01:37:16.0',1)\n",
                ",('677','Solomon Islands','2020-07-28 01:37:16.0',1)\n",
                ",('252','Somalia','2020-07-28 01:37:16.0',1)\n",
                ",('27','South Africa','2020-07-28 01:37:16.0',1)\n",
                ";\n",
                "INSERT INTO refdata_countries (IDD,CountryName,CreatedDate,StatusID) VALUES \n",
                "('34','Spain','2020-07-28 01:37:16.0',1)\n",
                ",('94','Sri Lanka','2020-07-28 01:37:16.0',1)\n",
                ",('290','St. Helena','2020-07-28 01:37:16.0',1)\n",
                ",('869','St. Kitts/Nevis','2020-07-28 01:37:16.0',1)\n",
                ",('508','St. Pierre &(et) Miquelon (France)','2020-07-28 01:37:16.0',1)\n",
                ",('249','Sudan','2020-07-28 01:37:16.0',1)\n",
                ",('597','Suriname','2020-07-28 01:37:16.0',1)\n",
                ",('268','Swaziland','2020-07-28 01:37:16.0',1)\n",
                ",('46','Sweden','2020-07-28 01:37:16.0',1)\n",
                ",('41','Switzerland','2020-07-28 01:37:16.0',1)\n",
                ";\n",
                "INSERT INTO refdata_countries (IDD,CountryName,CreatedDate,StatusID) VALUES \n",
                "('963','Syrian Arab Republic (Syria)','2020-07-28 01:37:16.0',1)\n",
                ",('689','Tahiti (French Polynesia)','2020-07-28 01:37:16.0',1)\n",
                ",('886','Taiwan','2020-07-28 01:37:16.0',1)\n",
                ",('7','Tajikistan','2020-07-28 01:37:16.0',1)\n",
                ",('255','Tanzania (includes Zanzibar)','2020-07-28 01:37:16.0',1)\n",
                ",('66','Thailand','2020-07-28 01:37:16.0',1)\n",
                ",('228','Togo (Togolese Republic)','2020-07-28 01:37:16.0',1)\n",
                ",('690','Tokelau','2020-07-28 01:37:16.0',1)\n",
                ",('676','Tonga','2020-07-28 01:37:16.0',1)\n",
                ",('1 868','Trinidad and Tobago','2020-07-28 01:37:16.0',1)\n",
                ";\n",
                "INSERT INTO refdata_countries (IDD,CountryName,CreatedDate,StatusID) VALUES \n",
                "('216','Tunisia','2020-07-28 01:37:16.0',1)\n",
                ",('90','Turkey','2020-07-28 01:37:16.0',1)\n",
                ",('993','Turkmenistan','2020-07-28 01:37:16.0',1)\n",
                ",('688','Tuvalu (Ellice Islands)','2020-07-28 01:37:16.0',1)\n",
                ",('256','Uganda','2020-07-28 01:37:16.0',1)\n",
                ",('380','Ukraine','2020-07-28 01:37:16.0',1)\n",
                ",('971','United Arab Emirates','2020-07-28 01:37:16.0',1)\n",
                ",('44','United Kingdom','2020-07-28 01:37:16.0',1)\n",
                ",('598','Uruguay','2020-07-28 01:37:16.0',1)\n",
                ",('1','USA','2020-07-28 01:37:16.0',1)\n",
                ";\n",
                "INSERT INTO refdata_countries (IDD,CountryName,CreatedDate,StatusID) VALUES \n",
                "('7','Uzbekistan','2020-07-28 01:37:16.0',1)\n",
                ",('678','Vanuatu (New Hebrides)','2020-07-28 01:37:16.0',1)\n",
                ",('39','Vatican City','2020-07-28 01:37:16.0',1)\n",
                ",('58','Venezuela','2020-07-28 01:37:16.0',1)\n",
                ",('84','Viet Nam','2020-07-28 01:37:16.0',1)\n",
                ",('1 340','Virgin Islands','2020-07-28 01:37:16.0',1)\n",
                ",('681','Wallis and Futuna','2020-07-28 01:37:16.0',1)\n",
                ",('685','Western Samoa','2020-07-28 01:37:16.0',1)\n",
                ",('381','Yemen (People''s Democratic Republic of)','2020-07-28 01:37:16.0',1)\n",
                ",('967','Yemen Arab Republic (North Yemen)','2020-07-28 01:37:16.0',1)\n",
                ";\n",
                "INSERT INTO refdata_countries (IDD,CountryName,CreatedDate,StatusID) VALUES \n",
                "('381','Yugoslavia (discontinued)','2020-07-28 01:37:16.0',1)\n",
                ",('243','Zaire','2020-07-28 01:37:16.0',1)\n",
                ",('260','Zambia','2020-07-28 01:37:16.0',1)\n",
                ",('263','Zimbabwe','2020-07-28 01:37:16.0',1)\n",
                ";\n",
                ""
            ],
            "metadata": {
                "language": "sql",
                "azdata_cell_guid": "54165ff9-bbfe-487f-a137-df6b9740dec8",
                "tags": []
            },
            "outputs": [
                {
                    "output_type": "display_data",
                    "data": {
                        "text/html": "Countries"
                    },
                    "metadata": {}
                },
                {
                    "output_type": "display_data",
                    "data": {
                        "text/html": "(10 rows affected)"
                    },
                    "metadata": {}
                },
                {
                    "output_type": "display_data",
                    "data": {
                        "text/html": "(10 rows affected)"
                    },
                    "metadata": {}
                },
                {
                    "output_type": "display_data",
                    "data": {
                        "text/html": "(10 rows affected)"
                    },
                    "metadata": {}
                },
                {
                    "output_type": "display_data",
                    "data": {
                        "text/html": "(10 rows affected)"
                    },
                    "metadata": {}
                },
                {
                    "output_type": "display_data",
                    "data": {
                        "text/html": "(10 rows affected)"
                    },
                    "metadata": {}
                },
                {
                    "output_type": "display_data",
                    "data": {
                        "text/html": "(10 rows affected)"
                    },
                    "metadata": {}
                },
                {
                    "output_type": "display_data",
                    "data": {
                        "text/html": "(10 rows affected)"
                    },
                    "metadata": {}
                },
                {
                    "output_type": "display_data",
                    "data": {
                        "text/html": "(10 rows affected)"
                    },
                    "metadata": {}
                },
                {
                    "output_type": "display_data",
                    "data": {
                        "text/html": "(10 rows affected)"
                    },
                    "metadata": {}
                },
                {
                    "output_type": "display_data",
                    "data": {
                        "text/html": "(10 rows affected)"
                    },
                    "metadata": {}
                },
                {
                    "output_type": "display_data",
                    "data": {
                        "text/html": "(10 rows affected)"
                    },
                    "metadata": {}
                },
                {
                    "output_type": "display_data",
                    "data": {
                        "text/html": "(10 rows affected)"
                    },
                    "metadata": {}
                },
                {
                    "output_type": "display_data",
                    "data": {
                        "text/html": "(10 rows affected)"
                    },
                    "metadata": {}
                },
                {
                    "output_type": "display_data",
                    "data": {
                        "text/html": "(10 rows affected)"
                    },
                    "metadata": {}
                },
                {
                    "output_type": "display_data",
                    "data": {
                        "text/html": "(10 rows affected)"
                    },
                    "metadata": {}
                },
                {
                    "output_type": "display_data",
                    "data": {
                        "text/html": "(10 rows affected)"
                    },
                    "metadata": {}
                },
                {
                    "output_type": "display_data",
                    "data": {
                        "text/html": "(10 rows affected)"
                    },
                    "metadata": {}
                },
                {
                    "output_type": "display_data",
                    "data": {
                        "text/html": "(10 rows affected)"
                    },
                    "metadata": {}
                },
                {
                    "output_type": "display_data",
                    "data": {
                        "text/html": "(10 rows affected)"
                    },
                    "metadata": {}
                },
                {
                    "output_type": "display_data",
                    "data": {
                        "text/html": "(10 rows affected)"
                    },
                    "metadata": {}
                },
                {
                    "output_type": "display_data",
                    "data": {
                        "text/html": "(10 rows affected)"
                    },
                    "metadata": {}
                },
                {
                    "output_type": "display_data",
                    "data": {
                        "text/html": "(10 rows affected)"
                    },
                    "metadata": {}
                },
                {
                    "output_type": "display_data",
                    "data": {
                        "text/html": "(10 rows affected)"
                    },
                    "metadata": {}
                },
                {
                    "output_type": "display_data",
                    "data": {
                        "text/html": "(4 rows affected)"
                    },
                    "metadata": {}
                },
                {
                    "output_type": "display_data",
                    "data": {
                        "text/html": "Total execution time: 00:00:00.467"
                    },
                    "metadata": {}
                }
            ],
            "execution_count": 10
        },
        {
            "cell_type": "code",
            "source": [
                "PRINT 'Device Types'\n",
                "INSERT INTO refdata_devicetypes (devicetype,createddate,statusid) VALUES\n",
                "\t ('Watch','2022-01-29 06:23:44.585',1),\n",
                "\t ('Phone','2022-01-29 06:23:44.585',1),\n",
                "\t ('Blood Pressure Cuff','2022-01-29 06:23:44.585',1),\n",
                "\t ('Medical Bed','2022-01-29 06:23:44.585',1),\n",
                "\t ('Glucometer','2022-01-29 06:23:44.585',1),\n",
                "\t ('CPAP','2022-01-29 06:23:44.585',1),\n",
                "\t ('Pulse Ox','2022-01-29 06:23:44.585',1);"
            ],
            "metadata": {
                "language": "sql",
                "azdata_cell_guid": "d2c9b871-ac91-4203-b27d-b40c0b50cd8c"
            },
            "outputs": [
                {
                    "output_type": "display_data",
                    "data": {
                        "text/html": "Device Types"
                    },
                    "metadata": {}
                },
                {
                    "output_type": "display_data",
                    "data": {
                        "text/html": "(7 rows affected)"
                    },
                    "metadata": {}
                },
                {
                    "output_type": "display_data",
                    "data": {
                        "text/html": "Total execution time: 00:00:00.213"
                    },
                    "metadata": {}
                }
            ],
            "execution_count": 11
        },
        {
            "cell_type": "code",
            "source": [
                "PRINT 'Industries'\n",
                "INSERT INTO refdata_industries (industryname,createddate,statusid) VALUES\n",
                "\t ('Healthcare','2022-01-29 05:59:50.287',1),\n",
                "\t ('Manufacturing','2022-01-29 05:59:50.287',1),\n",
                "\t ('Telco','2022-01-29 05:59:50.287',1),\n",
                "\t ('Automotive','2022-01-29 05:59:50.287',1),\n",
                "\t ('Financial','2022-01-29 06:04:27.892',1),\n",
                "     ('General','2022-01-29 06:24:27.892',1);"
            ],
            "metadata": {
                "language": "sql",
                "azdata_cell_guid": "aafcfa16-8d95-41e7-8716-71460bd355af"
            },
            "outputs": [
                {
                    "output_type": "display_data",
                    "data": {
                        "text/html": "Industries"
                    },
                    "metadata": {}
                },
                {
                    "output_type": "display_data",
                    "data": {
                        "text/html": "(6 rows affected)"
                    },
                    "metadata": {}
                },
                {
                    "output_type": "display_data",
                    "data": {
                        "text/html": "Total execution time: 00:00:00.042"
                    },
                    "metadata": {}
                }
            ],
            "execution_count": 12
        },
        {
            "cell_type": "code",
            "source": [
                "PRINT 'Industry to Business'\n",
                "INSERT INTO refdata_industriestobusiness (industryid,businessarea,createddate,statusid) VALUES\n",
                "\t (1,'Clinical Care','2022-01-29 06:14:19.888',1),\n",
                "\t (1,'Claims','2022-01-29 06:14:19.888',1),\n",
                "\t (1,'Emergency Care','2022-01-29 06:14:19.888',1),\n",
                "\t (1,'Surgeries','2022-01-29 06:14:19.888',1);"
            ],
            "metadata": {
                "language": "sql",
                "azdata_cell_guid": "4692a4ce-230f-4741-b3fa-9f6b11a8c0b5"
            },
            "outputs": [
                {
                    "output_type": "display_data",
                    "data": {
                        "text/html": "Industry to Business"
                    },
                    "metadata": {}
                },
                {
                    "output_type": "display_data",
                    "data": {
                        "text/html": "(4 rows affected)"
                    },
                    "metadata": {}
                },
                {
                    "output_type": "display_data",
                    "data": {
                        "text/html": "Total execution time: 00:00:00.052"
                    },
                    "metadata": {}
                }
            ],
            "execution_count": 13
        },
        {
            "cell_type": "code",
            "source": [
                "PRINT 'Operatons Type'\n",
                "INSERT INTO refdata_operationtype (operationtypeid,operationtypename,createddate,statusid) VALUES\n",
                "\t ('!=','Not Equal To','2020-07-28 00:25:23.000',1),\n",
                "\t ('<','Less Than','2020-07-28 00:25:23.000',1),\n",
                "\t ('<=','Less Than or Equal To','2020-07-28 00:25:23.000',1),\n",
                "\t ('>','Greater Than','2020-07-28 00:25:23.000',1),\n",
                "\t ('>=','Greater Than or Equal To','2020-07-28 00:25:23.000',1),\n",
                "\t ('CONTAIN','Contains','2020-07-28 00:25:23.000',1),\n",
                "\t ('STARTS','Starts with','2020-07-28 00:25:23.000',1),\n",
                "\t ('MIN','Minimum Value','2022-05-28 05:41:33.108',1),\n",
                "\t ('MAX','Maximum Value','2022-05-28 05:41:33.108',1),\n",
                "\t ('MEDIAN','Median Value','2022-05-28 05:41:33.108',1),\n",
                "\t ('MAXLNGT','Maximum Length','2022-05-28 05:41:33.108',1),\n",
                "\t ('MINLNGT','Minimum Length','2022-05-28 05:41:33.108',1);"
            ],
            "metadata": {
                "language": "sql",
                "azdata_cell_guid": "febbab1f-1abd-4072-9b4a-019f80c1f08a"
            },
            "outputs": [
                {
                    "output_type": "display_data",
                    "data": {
                        "text/html": "Operatons Type"
                    },
                    "metadata": {}
                },
                {
                    "output_type": "display_data",
                    "data": {
                        "text/html": "(12 rows affected)"
                    },
                    "metadata": {}
                },
                {
                    "output_type": "display_data",
                    "data": {
                        "text/html": "Total execution time: 00:00:00.050"
                    },
                    "metadata": {}
                }
            ],
            "execution_count": 14
        },
        {
            "cell_type": "code",
            "source": [
                "PRINT 'Terminology Std'\n",
                "insert into refdata_terminologystd (TerminologyStd, TerminologyStdVersion, TerminologyStdDesc)\n",
                "values  ('AIR', '1995AA', 'AI/RHEUM'),\n",
                "        ('ALT', '2009AA', 'Alternative Billing Concepts'),\n",
                "        ('AOD', '2002AC', 'Alcohol and Other Drug Thesaurus'),\n",
                "        ('AOT', '2006AD', 'Authorized Osteopathic Thesaurus'),\n",
                "        ('ATC', '2021AA', 'Anatomical Therapeutic Chemical Classification System'),\n",
                "        ('BI', '1999AA', 'Beth Israel Problem List'),\n",
                "        ('CCC', '2018AA', 'Clinical Care Classification'),\n",
                "        ('CCPSS', '2000AA', 'Clinical Problem Statements'),\n",
                "        ('CCS', '2005AC', 'Clinical Classifications Software'),\n",
                "        ('CCSR_ICD10CM', '2021AA', 'Clinical Classifications Software Refined for ICD-10-CM'),\n",
                "        ('CCSR_ICD10PCS', '2021AA', 'Clinical Classifications Software Refined for ICD-10-PCS'),\n",
                "        ('CDT', '2020AB', 'CDT'),\n",
                "        ('CHV', '2012AA', 'Consumer Health Vocabulary'),\n",
                "        ('COSTAR', '2002AD', 'COSTAR'),\n",
                "        ('CPM', '2003AC', 'Medical Entities Dictionary'),\n",
                "        ('CPT', '2021AA', 'CPT - Current Procedural Terminology'),\n",
                "        ('CPTSP', '2001AC', 'CPT Spanish'),\n",
                "        ('CSP', '2006AB', 'CRISP Thesaurus'),\n",
                "        ('CST', '1999AA', 'COSTART'),\n",
                "        ('CVX', '2021AA', 'Vaccines Administered'),\n",
                "        ('DDB', '2001AA', 'Diseases Database'),\n",
                "        ('DMDICD10', '1997AA', 'ICD-10 German'),\n",
                "        ('DMDUMD', '1999AA', 'UMDNS German'),\n",
                "        ('DRUGBANK', '2021AA', 'DrugBank'),\n",
                "        ('DSM-5', '2016AB', 'Diagnostic and Statistical Manual of Mental Disorders, Fifth Edition'),\n",
                "        ('DXP', '1995AA', 'DXplain'),\n",
                "        ('FMA', '2019AB', 'Foundational Model of Anatomy'),\n",
                "        ('GO', '2020AB', 'Gene Ontology'),\n",
                "        ('GS', '2021AA', 'Gold Standard Drug Database'),\n",
                "        ('HCDT', '2021AA', 'CDT in HCPCS'),\n",
                "        ('HCPCS', '2021AA', 'HCPCS - Healthcare Common Procedure Coding System'),\n",
                "        ('HCPT', '2021AA', 'CPT in HCPCS'),\n",
                "        ('HGNC', '2020AB', 'HUGO Gene Nomenclature Committee'),\n",
                "        ('HL7V2.5', '2005AC', 'HL7 Version 2.5'),\n",
                "        ('HL7V3.0', '2021AA', 'HL7 Version 3.0'),\n",
                "        ('HLREL', '2001AA', 'ICPC2E ICD10 Relationships'),\n",
                "        ('HPO', '2021AA', 'Human Phenotype Ontology'),\n",
                "        ('ICD10AE', '1998AA', 'ICD-10, American English Equivalents'),\n",
                "        ('ICD10AM', '2000AB', 'ICD-10, Australian Modification'),\n",
                "        ('ICD10AMAE', '2002AD', 'ICD-10, Australian Modification, Americanized English Equivalents'),\n",
                "        ('ICD10DUT', '2004AB', 'ICD10, Dutch Translation'),\n",
                "        ('ICD10PCS', '2020AB', 'ICD-10 Procedure Coding System'),\n",
                "        ('ICF', '2009AA', 'International Classification of Functioning, Disability and Health'),\n",
                "        ('ICNP', '2019AB', 'International Classification for Nursing Practice'),\n",
                "        ('ICPC', '1998AA', 'International Classification of Primary Care'),\n",
                "        ('ICPC2EDUT', '2004AB', 'ICPC2E Dutch'),\n",
                "        ('ICPC2EENG', '2004AB', 'International Classification of Primary Care, 2nd Edition, Electronic'),\n",
                "        ('ICPC2ICD10DUT', '2005AB', 'ICPC2-ICD10 Thesaurus, Dutch Translation'),\n",
                "        ('ICPC2ICD10ENG', '2005AB', 'ICPC2-ICD10 Thesaurus'),\n",
                "        ('ICPC2P', '2006AB', 'ICPC-2 PLUS'),\n",
                "        ('ICPCBAQ', '2000AA', 'ICPC Basque'),\n",
                "        ('ICPCDAN', '1999AA', 'ICPC Danish'),\n",
                "        ('ICPCDUT', '1999AA', 'ICPC Dutch'),\n",
                "        ('ICPCFIN', '1999AA', 'ICPC Finnish'),\n",
                "        ('ICPCFRE', '2000AA', 'ICPC French'),\n",
                "        ('ICPCGER', '2000AA', 'ICPC German'),\n",
                "        ('ICPCHEB', '2000AA', 'ICPC Hebrew'),\n",
                "        ('ICPCHUN', '1999AA', 'ICPC Hungarian'),\n",
                "        ('ICPCITA', '1999AA', 'ICPC Italian'),\n",
                "        ('ICPCNOR', '1999AA', 'ICPC Norwegian'),\n",
                "        ('ICPCPOR', '1999AA', 'ICPC Portuguese'),\n",
                "        ('ICPCSPA', '2000AA', 'ICPC Spanish'),\n",
                "        ('ICPCSWE', '2000AA', 'ICPC Swedish'),\n",
                "        ('JABL', '2000AA', 'Congenital Mental Retardation Syndromes'),\n",
                "        ('KCD5', '2009AA', 'Korean Standard Classification of Disease Version 5'),\n",
                "        ('LCH', '1992AA', 'Library of Congress Subject Headings'),\n",
                "        ('LCH_NW', '2014AB', 'Library of Congress Subject Headings, Northwestern University subset'),\n",
                "        ('LNC', '2021AA', 'LOINC'),\n",
                "        ('LNC-DE-AT', '2021AA', 'LOINC Linguistic Variant - German, Austria'),\n",
                "        ('LNC-DE-DE', '2021AA', 'LOINC Linguistic Variant - German, Germany'),\n",
                "        ('LNC-EL-GR', '2021AA', 'LOINC Linguistic Variant - Greek, Greece'),\n",
                "        ('LNC-ES-AR', '2021AA', 'LOINC Linguistic Variant - Spanish, Argentina'),\n",
                "        ('LNC-ES-ES', '2021AA', 'LOINC Linguistic Variant - Spanish, Spain'),\n",
                "        ('LNC-ET-EE', '2021AA', 'LOINC Linguistic Variant - Estonian, Estonia'),\n",
                "        ('LNC-FR-BE', '2021AA', 'LOINC Linguistic Variant - French, Belgium'),\n",
                "        ('LNC-FR-CA', '2021AA', 'LOINC Linguistic Variant - French, Canada'),\n",
                "        ('LNC-FR-FR', '2021AA', 'LOINC Linguistic Variant - French, France'),\n",
                "        ('LNC-IT-IT', '2021AA', 'LOINC Linguistic Variant - Italian, Italy'),\n",
                "        ('LNC-KO-KR', '2021AA', 'LOINC Linguistic Variant - Korea, Korean'),\n",
                "        ('LNC-NL-NL', '2021AA', 'LOINC Linguistic Variant - Dutch, Netherlands'),\n",
                "        ('LNC-PT-BR', '2021AA', 'LOINC Linguistic Variant - Portuguese, Brazil'),\n",
                "        ('LNC-RU-RU', '2021AA', 'LOINC Linguistic Variant - Russian, Russia'),\n",
                "        ('LNC-TR-TR', '2021AA', 'LOINC Linguistic Variant - Turkish, Turkey'),\n",
                "        ('LNC-ZH-CN', '2021AA', 'LOINC Linguistic Variant - Chinese, China'),\n",
                "        ('MCM', '1992AA', 'Glossary of Clinical Epidemiologic Terms'),\n",
                "        ('MDR', '2021AA', 'MedDRA'),\n",
                "        ('MDRBPO', '2021AA', 'MedDRA Brazilian Portuguese'),\n",
                "        ('MDRCZE', '2021AA', 'MedDRA Czech'),\n",
                "        ('MDRDUT', '2021AA', 'MedDRA Dutch'),\n",
                "        ('MDRFRE', '2021AA', 'MedDRA French'),\n",
                "        ('MDRGER', '2021AA', 'MedDRA German'),\n",
                "        ('MDRHUN', '2021AA', 'MedDRA Hungarian'),\n",
                "        ('MDRITA', '2021AA', 'MedDRA Italian'),\n",
                "        ('MDRJPN', '2021AA', 'MedDRA Japanese'),\n",
                "        ('MDRKOR', '2021AA', 'MedDRA Korean'),\n",
                "        ('MDRPOR', '2021AA', 'MedDRA Portuguese'),\n",
                "        ('MDRRUS', '2021AA', 'MedDRA Russian'),\n",
                "        ('MDRSPA', '2021AA', 'MedDRA Spanish'),\n",
                "        ('MED-RT', '2021AA', 'Medication Reference Terminology'),\n",
                "        ('MEDCIN', '2021AA', 'MEDCIN'),\n",
                "        ('MEDLINEPLUS', '2021AA', 'MedlinePlus Health Topics'),\n",
                "        ('MEDLINEPLUS_SPA', '2021AA', 'MEDLINEPLUS Spanish'),\n",
                "        ('MMSL', '2021AA', 'Multum'),\n",
                "        ('MMX', '2021AA', 'Micromedex'),\n",
                "        ('MSH', '2021AA', 'MeSH'),\n",
                "        ('MSHCZE', '2021AA', 'MeSH Czech'),\n",
                "        ('MSHDUT', '2005AB', 'MeSH Dutch'),\n",
                "        ('MSHFIN', '2008AA', 'MeSH Finnish'),\n",
                "        ('MSHFRE', '2021AA', 'MeSH French'),\n",
                "        ('MSHGER', '2019AA', 'MeSH German'),\n",
                "        ('MSHITA', '2019AA', 'MeSH Italian'),\n",
                "        ('MSHJPN', '2015AB', 'MeSH Japanese'),\n",
                "        ('MSHLAV', '2012AA', 'MeSH Latvian'),\n",
                "        ('MSHNOR', '2019AA', 'MeSH Norwegian'),\n",
                "        ('MSHPOL', '2021AA', 'MeSH Polish'),\n",
                "        ('MSHPOR', '2020AA', 'MeSH Portuguese'),\n",
                "        ('MSHRUS', '2021AA', 'MeSH Russian'),\n",
                "        ('MSHSCR', '2019AA', 'MeSH Croatian'),\n",
                "        ('MSHSPA', '2020AA', 'MeSH Spanish'),\n",
                "        ('MSHSWE', '2020AA', 'MeSH Swedish'),\n",
                "        ('MTH', '1990AA', 'Metathesaurus Names'),\n",
                "        ('MTHCMSFRF', '2021AA', 'Metathesaurus CMS Formulary Reference File'),\n",
                "        ('MTHICD9', '2015AA', 'ICD-9-CM Entry Terms'),\n",
                "        ('MTHICPC2EAE', '2004AB', 'ICPC2E American English Equivalents'),\n",
                "        ('MTHICPC2ICD10AE', '2005AB', 'ICPC2E-ICD10 Thesaurus, American English Equivalents'),\n",
                "        ('MTHMST', '2002AA', 'Minimal Standard Terminology (UMLS)'),\n",
                "        ('MTHMSTFRE', '2002AA', 'Minimal Standard Terminology French (UMLS)'),\n",
                "        ('MTHMSTITA', '2002AA', 'Minimal Standard Terminology Italian (UMLS)'),\n",
                "        ('MTHSPL', '2021AA', 'FDA Structured Product Labels'),\n",
                "        ('MVX', '2021AA', 'Manufacturers of Vaccines'),\n",
                "        ('NANDA-I', '2018AA', 'NANDA-I Taxonomy'),\n",
                "        ('NCBI', '2020AB', 'NCBI Taxonomy'),\n",
                "        ('NCI', '2021AA', 'NCI Thesaurus'),\n",
                "        ('NCI_BioC', '2021AA', 'BioCarta online maps of molecular pathways, adapted for NCI use'),\n",
                "        ('NCI_BRIDG', '2021AA', 'Biomedical Research Integrated Domain Group Model Subset'),\n",
                "        ('NCI_BRIDG_3_0_3', '2021AA', 'Biomedical Research Integrated Domain Group Model, 3.0.3'),\n",
                "        ('NCI_BRIDG_5_3', '2021AA', 'Biomedical Research Integrated Domain Group Model, 5.3'),\n",
                "        ('NCI_caDSR', '2021AA', 'Cancer Data Standards Registry and Repository'),\n",
                "        ('NCI_CareLex', '2021AA', 'Content Archive Resource Exchange Lexicon'),\n",
                "        ('NCI_CBDD', '2021AA', 'Chemical Biology and Drug Development Vocabulary'),\n",
                "        ('NCI_CDC', '2021AA', 'U.S. Centers for Disease Control and Prevention Terms'),\n",
                "        ('NCI_CDISC', '2021AA', 'CDISC Terminology'),\n",
                "        ('NCI_CDISC-GLOSS', '2021AA', 'CDISC Glossary Terminology'),\n",
                "        ('NCI_CELLOSAURUS', '2021AA', 'Cellosaurus'),\n",
                "        ('NCI_CRCH', '2021AA', 'Cancer Research Center of Hawaii Nutrition Terminology'),\n",
                "        ('NCI_CTCAE', '2021AA', 'Common Terminology Criteria for Adverse Events 4.3 Subset'),\n",
                "        ('NCI_CTCAE_3', '2021AA', 'Common Terminology Criteria for Adverse Events 3.0'),\n",
                "        ('NCI_CTCAE_5', '2021AA', 'Common Terminology Criteria for Adverse Events 5.0'),\n",
                "        ('NCI_CTDC', '2021AA', 'Clinical Trial Data Commons'),\n",
                "        ('NCI_CTEP-SDC', '2021AA', 'Cancer Therapy Evaluation Program - Simple Disease Classification'),\n",
                "        ('NCI_CTRP', '2021AA', 'Clinical Trials Reporting Program Terms'),\n",
                "        ('NCI_DCP', '2021AA', 'NCI Division of Cancer Prevention Program Terms'),\n",
                "        ('NCI_DICOM', '2021AA', 'Digital Imaging Communications in Medicine Terms'),\n",
                "        ('NCI_DTP', '2021AA', 'NCI Developmental Therapeutics Program'),\n",
                "        ('NCI_EDQM-HC', '2021AA', 'European Directorate for the Quality of Medicines & Healthcare Terms'),\n",
                "        ('NCI_FDA', '2021AA', 'FDA Terminology'),\n",
                "        ('NCI_GAIA', '2021AA', 'Global Alignment of Immunization Safety Assessment in Pregnancy Terms'),\n",
                "        ('NCI_GDC', '2021AA', 'NCI Genomic Data Commons Terms'),\n",
                "        ('NCI_GENC', '2021AA', 'Geopolitical Entities, Names, and Codes (GENC) Standard Edition 1'),\n",
                "        ('NCI_ICDC', '2021AA', 'NCI Integrated Canine Data Commons Terms'),\n",
                "        ('NCI_ICH', '2021AA', 'International Conference on Harmonization Terms'),\n",
                "        ('NCI_INC', '2021AA', 'International Neonatal Consortium'),\n",
                "        ('NCI_JAX', '2021AA', 'Jackson Laboratories Mouse Terminology, adapted for NCI use'),\n",
                "        ('NCI_KEGG', '2021AA', 'KEGG Pathway Database Terms'),\n",
                "        ('NCI_NCI-GLOSS', '2021AA', 'NCI Dictionary of Cancer Terms'),\n",
                "        ('NCI_NCI-HGNC', '2021AA', 'NCI HUGO Gene Nomenclature'),\n",
                "        ('NCI_NCI-HL7', '2021AA', 'NCI Health Level 7'),\n",
                "        ('NCI_NCPDP', '2021AA', 'NCPDP Terminology'),\n",
                "        ('NCI_NICHD', '2021AA', 'NICHD Terminology'),\n",
                "        ('NCI_PCDC', '2021AA', 'Pediatric Cancer Data Commons'),\n",
                "        ('NCI_PI-RADS', '2021AA', 'Prostate Imaging Reporting and Data System Terms'),\n",
                "        ('NCI_PID', '2021AA', 'National Cancer Institute Nature Pathway Interaction Database Terms'),\n",
                "        ('NCI_RENI', '2021AA', 'Registry Nomenclature Information System'),\n",
                "        ('NCI_UCUM', '2021AA', 'Unified Code for Units of Measure'),\n",
                "        ('NCI_ZFin', '2021AA', 'Zebrafish Model Organism Database Terms'),\n",
                "        ('NCISEER', '2002AD', 'NCI SEER ICD Mappings'),\n",
                "        ('NDDF', '2021AA', 'FDB MedKnowledge'),\n",
                "        ('NEU', '2020AB', 'Neuronames Brain Hierarchy'),\n",
                "        ('NIC', '2018AB', 'Nursing Interventions Classification'),\n",
                "        ('NOC', '2018AB', 'Nursing Outcomes Classification'),\n",
                "        ('NUCCHCPT', '2021AA', 'National Uniform Claim Committee - Health Care Provider Taxonomy'),\n",
                "        ('OMIM', '2021AA', 'Online Mendelian Inheritance in Man'),\n",
                "        ('OMS', '2007AC', 'Omaha System'),\n",
                "        ('PCDS', '1999AA', 'Patient Care Data Set'),\n",
                "        ('PDQ', '2019AA', 'Physician Data Query'),\n",
                "        ('PNDS', '2018AB', 'Perioperative Nursing Data Set'),\n",
                "        ('PPAC', '1999AA', 'Pharmacy Practice Activity Classification'),\n",
                "        ('PSY', '2005AB', 'Psychological Index Terms'),\n",
                "        ('QMR', '1998AA', 'Quick Medical Reference'),\n",
                "        ('RAM', '2000AA', 'Clinical Concepts by R A Miller'),\n",
                "        ('RCD', '2000AA', 'Read Codes'),\n",
                "        ('RCDAE', '2000AA', 'Read Codes Am Engl'),\n",
                "        ('RCDSA', '2000AA', 'Read Codes Am Synth'),\n",
                "        ('RCDSY', '2000AA', 'Read Codes Synth'),\n",
                "        ('RXNORM', '2021AA', 'RXNORM'),\n",
                "        ('SCTSPA', '2021AA', 'SNOMED CT Spanish Edition'),\n",
                "        ('SNM', '1991AA', 'SNOMED 1982'),\n",
                "        ('SNMI', '1999AA', 'SNOMED Intl 1998'),\n",
                "        ('SNOMEDCT_US', '2021AA', 'SNOMED CT, US Edition'),\n",
                "        ('SNOMEDCT_VET', '2021AA', 'SNOMED CT, Veterinary Extension'),\n",
                "        ('SOP', '2021AA', 'Source of Payment Typology'),\n",
                "        ('SPN', '2004AA', 'Standard Product Nomenclature'),\n",
                "        ('SRC', '1995AA', 'Source Terminology Names (UMLS)'),\n",
                "        ('TKMT', '2011AB', 'Traditional Korean Medical Terms'),\n",
                "        ('ULT', '1995AA', 'UltraSTAR'),\n",
                "        ('UMD', '2021AA', 'UMDNS'),\n",
                "        ('USP', '2021AA', 'USP Compendial Nomenclature'),\n",
                "        ('USPMG', '2020AA', 'USP Model Guidelines'),\n",
                "        ('UWDA', '2003AC', 'Digital Anatomist'),\n",
                "        ('VANDF', '2021AA', 'National Drug File'),\n",
                "        ('WHO', '1999AA', 'WHOART'),\n",
                "        ('WHOFRE', '1999AA', 'WHOART French'),\n",
                "        ('WHOGER', '1999AA', 'WHOART German'),\n",
                "        ('WHOPOR', '1999AA', 'WHOART Portuguese'),\n",
                "        ('WHOSPA', '1999AA', 'WHOART Spanish');"
            ],
            "metadata": {
                "language": "sql",
                "azdata_cell_guid": "1bd6d477-f7dc-49f8-b3d7-cc089a326e95"
            },
            "outputs": [
                {
                    "output_type": "display_data",
                    "data": {
                        "text/html": "Terminology Std"
                    },
                    "metadata": {}
                },
                {
                    "output_type": "display_data",
                    "data": {
                        "text/html": "(215 rows affected)"
                    },
                    "metadata": {}
                },
                {
                    "output_type": "display_data",
                    "data": {
                        "text/html": "Total execution time: 00:00:00.212"
                    },
                    "metadata": {}
                }
            ],
            "execution_count": 15
        }
    ]
}