{
    "metadata": {
        "kernelspec": {
            "name": "SQL",
            "display_name": "SQL",
            "language": "sql"
        },
        "language_info": {
            "name": "sql",
            "version": ""
        }
    },
    "nbformat_minor": 2,
    "nbformat": 4,
    "cells": [
        {
            "cell_type": "code",
            "source": [
                "PRINT 'Implementation and Data Model Data Loaders'\n",
                "-- impl_codesets and impl_codesets_crossmaps are purposefully blank and will \n",
                "-- only be worked on implementation"
            ],
            "metadata": {
                "azdata_cell_guid": "042bb650-18c3-4a31-bb3b-60b66ad310cf",
                "language": "sql"
            },
            "outputs": [],
            "execution_count": null
        },
        {
            "cell_type": "code",
            "source": [
                "PRINT 'Legal Entities'\n",
                "INSERT INTO impl_legalentities (LegalEntityGUID,LocationName,Address,City,StateID,ZipCode,CreatedUser,StatusID,CreatedDate,LocationURL,LocationPhone) VALUES\n",
                "    ('7ae3b73b-05d4-11ec-a889-168500abc6d9','Care Delivery US',NULL,NULL,'TN',NULL,NULL,1,'2021-08-25 18:44:29',NULL,NULL);\n",
                ""
            ],
            "metadata": {
                "language": "sql",
                "azdata_cell_guid": "6b7c8836-c236-42e0-929a-49197b9dbece",
                "tags": []
            },
            "outputs": [
                {
                    "output_type": "display_data",
                    "data": {
                        "text/html": "Legal Entities"
                    },
                    "metadata": {}
                },
                {
                    "output_type": "display_data",
                    "data": {
                        "text/html": "(1 row affected)"
                    },
                    "metadata": {}
                },
                {
                    "output_type": "display_data",
                    "data": {
                        "text/html": "Total execution time: 00:00:00.073"
                    },
                    "metadata": {}
                }
            ],
            "execution_count": 1
        },
        {
            "cell_type": "code",
            "source": [
                "PRINT 'Organizations'\n",
                "INSERT INTO impl_organization (OrganizationGUID,OrganizationInternalCode,OrganizationInternalID,OrganizationName,Address,City,StateID,ZipCode,CreatedUser,StatusID,CreatedDate,LegalEntityGUID) VALUES\n",
                "\t ('05e10cec-d72a-11ea-b0b4-aa403f7fbe39','MCTN','MCTN','Mid County TN Hospital','101 Healthcare Way','Franklin','TN','37067',NULL,1,'2020-08-05 09:43:27',NULL),\n",
                "\t ('05e9c6f2-d72a-11ea-b0b4-aa403f7fbe39','ERSprHill','ERSH','ER - Free standing ER ','1 Emergency Room Rd','Spring Hill','TN','37074',NULL,1,'2020-08-05 09:43:27',NULL),\n",
                "\t ('daf0ace4-d09a-11ea-9579-bba61161b25a','UNDF','UNDF','Undefined Organization Name',NULL,NULL,NULL,NULL,NULL,1,'2020-07-28 01:23:30',NULL);"
            ],
            "metadata": {
                "language": "sql",
                "azdata_cell_guid": "7d413957-3714-43da-8617-f917a8fd5995"
            },
            "outputs": [
                {
                    "output_type": "display_data",
                    "data": {
                        "text/html": "Organizations"
                    },
                    "metadata": {}
                },
                {
                    "output_type": "display_data",
                    "data": {
                        "text/html": "(3 rows affected)"
                    },
                    "metadata": {}
                },
                {
                    "output_type": "display_data",
                    "data": {
                        "text/html": "Total execution time: 00:00:00.066"
                    },
                    "metadata": {}
                }
            ],
            "execution_count": 2
        },
        {
            "cell_type": "code",
            "source": [
                "PRINT 'Applications'\n",
                "INSERT INTO impl_application\n",
                "    (appguid,applicationcustomcode,applicationdesc,createduser,createddate,statusid,vendorid,\n",
                "     industry_oid,organization_uid) VALUES ('16a17a48-d09b-11ea-9579-bba61161b25a  ','DSynth','Data Synthesis Platform',NULL,'2020-07-28 01:25:10.000',1,1,NULL,NULL), ('a7d17ac2-fcb7-11eb-a889-168500abc6d9  ','UNDF','Undefined App',NULL,'2021-08-14 04:25:28.000',1,NULL,NULL,NULL), ('639ea3bc-d72a-11ea-b0b4-aa403f7fbe39  ','MedHost','MedHost',NULL,'2020-08-05 09:46:04.000',1,NULL,'2.16.840.1.113883.3.530',NULL), ('639de2e2-d72a-11ea-b0b4-aa403f7fbe39  ','EpicHC','Epic',NULL,'2020-08-05 09:46:04.000',1,NULL,'1.2.840.1.114350',NULL), ('639f6784-d72a-11ea-b0b4-aa403f7fbe39  ','Greenway','Greenway Healthcare',NULL,'2020-08-05 09:46:04.000',1,NULL,'2.16.840.1.113883.3.7858',NULL), ('63a032c2-d72a-11ea-b0b4-aa403f7fbe39  ','eCW','E Clinical Works',NULL,'2020-08-05 09:46:04.000',1,NULL,'2.16.840.1.113883.3.3590',NULL), ('63a0f63a-d72a-11ea-b0b4-aa403f7fbe39  ','Meditech','Meditech',NULL,'2020-08-05 09:46:04.000',1,NULL,'2.16.840.1.113883.3.6128',NULL), ('63a26754-d72a-11ea-b0b4-aa403f7fbe39  ','GE','General Electric - Healthcare',NULL,'2020-08-05 09:46:04.000',1,NULL,'1.2.392.200036.9111.370',NULL), ('63a1b624-d72a-11ea-b0b4-aa403f7fbe39  ','Cerner','Cerner',NULL,'2020-08-05 09:46:04.000',1,NULL,'2.16.840.1.113883.3.13',NULL), ('39cdbfb3-3456-488c-83d7-68763a14ea3d  ','AllScripts','AllScripts','NULL','2022-05-29 05:04:55.025',1,NULL,'2.16.840.1.113883.4.928',NULL), ('c73ab2ba-2231-499a-95cb-f550dffe1565  ','Mckesson','McKesson','NULL','2022-05-29 05:09:01.559',1,NULL,'2.16.840.1.113883.3.1070',NULL), ('1a5b921d-7204-4f06-a0b0-c038c3f0bf27  ','Nuance','Nuance','NULL','2022-05-29 05:10:42.485',1,NULL,'2.16.840.1.113883.3.423',NULL), ('f58a0395-ae2b-48cc-af23-b4b8c80b8658  ','NextGen','NextGen Healthcare','NULL','2022-05-29 05:14:25.337',1,NULL,'2.16.840.1.113883.3.109',NULL), ('018fde99-d617-449d-8e28-a70b383337db  ','Philips','Philips Healthcare','NULL','2022-05-29 05:17:02.538',1,NULL,'2.16.840.1.113883.3.326',NULL);"
            ],
            "metadata": {
                "language": "sql",
                "azdata_cell_guid": "bbbb52a8-fd64-48cc-8a44-165b6a6fb2fc"
            },
            "outputs": [
                {
                    "output_type": "display_data",
                    "data": {
                        "text/html": "Applications"
                    },
                    "metadata": {}
                },
                {
                    "output_type": "display_data",
                    "data": {
                        "text/html": "(14 rows affected)"
                    },
                    "metadata": {}
                },
                {
                    "output_type": "display_data",
                    "data": {
                        "text/html": "Total execution time: 00:00:00.088"
                    },
                    "metadata": {}
                }
            ],
            "execution_count": 3
        },
        {
            "cell_type": "code",
            "source": [
                "PRINT 'Data Model Domain'\r\n",
                "INSERT INTO datamodel_domain (domainname,domaininformation,statusid,createddate) VALUES ('refdata','Data that is provided for the platform and loaded as a consistent way to deliver base capabilities',1,'2021-08-25 16:23:37.000'), ('datastructure','DataStructures represent brining multiple data attributes together to create a structure',1,'2021-08-25 16:21:49.000'), ('dataexisting','Existing data That we have leveraged from various public sources',1,'2021-08-25 16:20:24.000'), ('auditing','Auditing for Platform',1,'2021-08-25 16:20:24.000'), ('datagenerated','Data That DataSynthesis Built through APIs or Code from Data Attributes',1,'2021-08-25 16:20:24.000'), ('platform','Platform data used globally within the platform',1,'2021-08-25 16:23:37.000'), ('terms','Terminologies - consider base for platform',1,'2021-08-25 16:23:37.000'), ('datamodel','Attempts to have details on the database within the database itself',1,'2021-08-25 16:21:49.000'), ('impl','Implementation specific data',1,'2021-08-25 16:23:37.000');\r\n",
                ""
            ],
            "metadata": {
                "language": "sql",
                "azdata_cell_guid": "b604f47b-3830-416c-8a0a-41a376c58fdd"
            },
            "outputs": [
                {
                    "output_type": "display_data",
                    "data": {
                        "text/html": "Data Model Domain"
                    },
                    "metadata": {}
                },
                {
                    "output_type": "display_data",
                    "data": {
                        "text/html": "(9 rows affected)"
                    },
                    "metadata": {}
                },
                {
                    "output_type": "display_data",
                    "data": {
                        "text/html": "Total execution time: 00:00:00.071"
                    },
                    "metadata": {}
                }
            ],
            "execution_count": 7
        },
        {
            "cell_type": "code",
            "source": [
                "PRINT 'Data Model DataTables'\n",
                "INSERT INTO datamodel_datatables (tablename,tableinformation,statusid,createddate,\"domain\") VALUES ('datagenerated_custom','Customized Data Generation - Intended for non specific random generator based data',1,'2023-01-04 21:51:35.669',NULL), ('datagenerated_serialnumbers','Data Intended to represent serialnumbers',1,'2023-01-04 22:32:55.089','datagenerated'), ('platform_config_datastructures','Platform Settings - Data Structures Header Records',1,'2023-01-04 22:26:42.059','platform'), ('platform_config_datastructures_dtl','Platform Settings - Data Generation Specific Attribute Details for Data Structures',1,'2023-01-04 22:27:50.910','platform'), ('refdata_devicetypes','Different Types of devices',1,'2023-01-04 22:36:20.777','refdata'), ('dataexisting_ababanking','Data Freely Available Implemented -  ABABanking Data',1,'2020-08-04 22:18:04.000','dataexisting'), ('dataexisting_areacode','Data Freely Available Implemented -  Area Codes',1,'2020-08-04 22:18:04.000','dataexisting'), ('dataexisting_areacodeintl','Data Freely Available Implemented -  Area Codes International',1,'2020-08-04 22:18:04.000','dataexisting'), ('dataexisting_upccodes','Data Freely Available Implemented - UPC Product Codes',1,'2020-08-04 22:18:04.000','dataexisting'), ('dataexisting_companies','Data Freely Available Implemented -  SEC Named Companies',1,'2020-08-04 22:18:04.000','dataexisting'), ('dataexisting_zipcodeintl','Not Populated Yet but meant for International Zip Code Lists',1,'2020-08-04 22:18:04.000','dataexisting'), ('dataexisting_namefirst','Data Freely Available Implemented -  First Names (Baseline from avaiable data and can be added to)',1,'2020-08-04 22:18:04.000','dataexisting'), ('dataexisting_namelast','Data Freely Available Implemented -  Last Names (Baseline from avaiable data and can be added to)',1,'2020-08-04 22:18:04.000','dataexisting'), ('dataexisting_zipcodeus','Data Freely Available Implemented - US Zip Codes',1,'2020-08-04 22:18:04.000','dataexisting'), ('datagenerated_accountnumbers','Data to represent Account Numbers for many uses',1,'2020-08-04 22:18:04.000','datagenerated'), ('datagenerated_addresses','Data to represent Address Street Names - Comes from Algorithm for street address, direction and street name (pulled from last name)',1,'2020-08-04 22:18:04.000','datagenerated'), ('datagenerated_bankaccount','Data to represent bank account numnbers',1,'2020-08-04 22:18:04.000','datagenerated'), ('datagenerated_creditcard','Data to represent credit cards',1,'2020-08-04 22:18:04.000','datagenerated'), ('datagenerated_dateofbirth','Data to represent dates of birth',1,'2020-08-04 22:18:04.000','datagenerated'), ('datagenerated_driverslicenses','Data to represent Drivers License Numbers - Formats are legitimate per state. For states with multiple formats we have defined one',1,'2020-08-04 22:18:04.000','datagenerated'), ('datagenerated_ein','Data to represent EIN (Employer Identification Number)',1,'2020-08-04 22:18:04.000','datagenerated'), ('datagenerated_phonenumber','Data To represent phone numbers without area code',1,'2020-08-04 22:18:04.000','datagenerated'), ('datagenerated_phonenumbersintl','Future Usage',1,'2020-08-04 22:18:04.000','datagenerated'), ('datagenerated_socialsecuritynumber','Data To represent Social Security Numbers',1,'2020-08-04 22:18:04.000','datagenerated'), ('datagenerated_useridentities','Data to represent User Identities - could be used within many data structures for many uses',1,'2020-08-04 22:18:04.000','datagenerated'), ('datamodel_datatables','This table for data model details and explanations',1,'2020-08-04 22:18:04.000','datamodel'), ('datamodel_domain','Reference for all domains within the database x_',1,'2021-08-25 15:37:45.000','datamodel'), ('impl_application','Implementation Specific Applications ',1,'2020-08-04 22:18:04.000','impl'), ('impl_legalentities','Implementation Specific Legal Enties - Level Above Orgs',1,'2021-08-25 15:23:15.000','impl'), ('impl_organization','Implementation Specific - Organizations Using Platform',1,'2020-08-04 22:18:04.000','impl'), ('impl_rulesets','Implementation Specific Rulesets - Named',1,'2021-08-25 15:23:15.000','impl'), ('impl_rulesetsdefintions','Implementation Specific Detail and Defined Rulesets',1,'2021-08-25 15:23:15.000','impl'), ('platform_dataattributes','Platform Settings - Data Attributes in Platform (Data Existing and Data Generated Tables)',1,'2020-08-04 22:18:04.000','platform'), ('refdata_codeset','Platform Reference Data - Codesets Supported within Platform',1,'2020-08-04 22:18:04.000','refdata'), ('refdata_countries','Platform Reference Data - Countries',1,'2020-08-04 22:18:04.000','refdata'), ('refdata_datagentypes','Specific Types of Data Generations The Platform is doing',1,'2021-08-25 15:26:19.000','refdata'), ('refdata_industrystd','Platform Reference Data - Supported or Upcoming Industry Stds supported',1,'2020-08-04 22:18:04.000','refdata'), ('refdata_operationtype','Platform Reference Data - Operations of Information and Rules',1,'2020-08-04 22:18:04.000','refdata'), ('refdata_platformparams','Params Used in Platform',1,'2021-02-07 03:04:57.000','refdata'), ('refdata_platformparamstodataattributes','Associate Platform Params to Defined Data Attributes',1,'2021-02-07 03:04:57.000','refdata'), ('refdata_sensitivityflag','Platform Reference Data - Sensitivty Levels of Data',1,'2020-08-04 22:18:04.000','refdata'), ('refdata_status','Platform Reference Data - Statuses of Data',1,'2020-08-04 22:18:04.000','refdata'), ('refdata_terminologystd','Reference Data - All Supprted Terminology Stds',1,'2021-08-25 15:27:33.000','refdata'), ('refdata_timezones','Platform Reference Data - Time Zones',1,'2020-08-04 22:18:04.000','refdata'), ('refdata_usstates','Platform Reference Data - US States',1,'2020-08-04 22:18:04.000','refdata'), ('refdata_vendor','Platform Reference Data - Vendors',1,'2020-08-04 22:18:04.000','refdata'), ('terms_umls_mrconso','Loaded UMLS MrConso Data Files of 16.xM terms',1,'2021-08-25 15:34:04.000','terms'), ('terms_codeset_industrystd','Specific Terminologies ONLY Intended for HL7v2 standard terms',1,'2021-08-25 15:28:27.000','terms'), ('impl_codesets','Implementation Specific Terminology Header',1,'2020-08-04 22:18:04.000','impl'), ('refdata_industries','Industries Supported By Platform',1,'2022-05-29 06:06:05.894','refdata'), ('refdata_industriestobusiness','Specific Business related to industries supported',1,'2022-05-29 06:06:05.894','refdata'), ('datastructure_core','Composite Data Structure for Generated Data Structures',1,'2021-08-25 14:52:34.000','datastructure'), ('datagenerated_devices','Implemented Devices',1,'2022-05-29 06:06:05.894','datagenerated'), ('datamodel_apis','Data APIs for the Platform',1,'2022-04-22 04:03:50.139','datamodel'), ('platform_appsettings_general','Platform Settings - Application Settings',1,'2020-08-04 22:18:04.000','platform'), ('platform_config_dataattributes','Platform Settings - Data Generation Configuration for automated data building',1,'2020-08-04 22:18:04.000','platform'), ('impl_codesets_crossmaps','Impl Specific CrossMaps of terms with specific details',1,'2021-02-07 03:04:57.000','impl');\n",
                ""
            ],
            "metadata": {
                "language": "sql",
                "azdata_cell_guid": "8c2bdb40-08b7-41f3-bf0f-87c48b4010b2"
            },
            "outputs": [
                {
                    "output_type": "display_data",
                    "data": {
                        "text/html": "Data Model DataTables"
                    },
                    "metadata": {}
                },
                {
                    "output_type": "display_data",
                    "data": {
                        "text/html": "(57 rows affected)"
                    },
                    "metadata": {}
                },
                {
                    "output_type": "display_data",
                    "data": {
                        "text/html": "Total execution time: 00:00:00.053"
                    },
                    "metadata": {}
                }
            ],
            "execution_count": 8
        }
    ]
}